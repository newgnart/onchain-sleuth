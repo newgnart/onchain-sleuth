{
 "cells": [
  {
   "cell_type": "raw",
   "id": "92b1ede8",
   "metadata": {
    "vscode": {
     "languageId": "raw"
    }
   },
   "source": [
    "---\n",
    "title: \"$OPEN\"\n",
    "description: \"An analysis of $OPEN token\"\n",
    "date: \"2025-08-25\"\n",
    "categories: [\"analysis\", \"stablecoins\"]\n",
    "execute:\n",
    "  enabled: false\n",
    "  echo: false\n",
    "format: \n",
    "  html:\n",
    "    code-fold: true\n",
    "jupyter: python3\n",
    "image: \"images/boss.png\"\n",
    "---"
   ]
  },
  {
   "cell_type": "code",
   "execution_count": null,
   "id": "dd86cd34",
   "metadata": {},
   "outputs": [
    {
     "data": {
      "text/html": [
       "        <script type=\"text/javascript\">\n",
       "        window.PlotlyConfig = {MathJaxConfig: 'local'};\n",
       "        if (window.MathJax && window.MathJax.Hub && window.MathJax.Hub.Config) {window.MathJax.Hub.Config({SVG: {font: \"STIX-Web\"}});}\n",
       "        </script>\n",
       "        <script type=\"module\">import \"https://cdn.plot.ly/plotly-3.1.0.min\"</script>\n",
       "        "
      ]
     },
     "metadata": {},
     "output_type": "display_data"
    }
   ],
   "source": [
    "import sys\n",
    "import pandas as pd\n",
    "import plotly.offline as pyo\n",
    "\n",
    "from data_sleuth.utils.postgres import PostgresClient\n",
    "from data_sleuth.config import settings\n",
    "\n",
    "client = PostgresClient(settings.postgres)\n",
    "pyo.init_notebook_mode(connected=True)\n",
    "sys.path.append(\"..\")\n",
    "\n",
    "from scripts.helpers.plotting import daily_supply"
   ]
  },
  {
   "cell_type": "markdown",
   "id": "cb14bc67",
   "metadata": {},
   "source": [
    "## Primary market"
   ]
  },
  {
   "cell_type": "code",
   "execution_count": 2,
   "id": "09fbc56a",
   "metadata": {},
   "outputs": [
    {
     "data": {
      "application/vnd.plotly.v1+json": {
       "config": {
        "plotlyServerURL": "https://plot.ly"
       },
       "data": [
        {
         "hovertemplate": "<b>%{x}</b><br>Mint: %{y:,.2f}<br><extra></extra>",
         "marker": {
          "color": "#00C851"
         },
         "name": "Mint",
         "opacity": 0.7,
         "type": "bar",
         "x": [
          "2025-04-14",
          "2025-04-17",
          "2025-04-18",
          "2025-04-20",
          "2025-04-21",
          "2025-04-22",
          "2025-04-23",
          "2025-04-24",
          "2025-04-25",
          "2025-04-26",
          "2025-04-27",
          "2025-04-28",
          "2025-04-29",
          "2025-04-30",
          "2025-05-01",
          "2025-05-02",
          "2025-05-03",
          "2025-05-04",
          "2025-05-05",
          "2025-05-06",
          "2025-05-07",
          "2025-05-08",
          "2025-05-09",
          "2025-05-10",
          "2025-05-11",
          "2025-05-13",
          "2025-05-14",
          "2025-05-15",
          "2025-05-16",
          "2025-05-18",
          "2025-05-20",
          "2025-05-22",
          "2025-05-23",
          "2025-05-24",
          "2025-05-26",
          "2025-05-28",
          "2025-05-29",
          "2025-05-30",
          "2025-05-31",
          "2025-06-01",
          "2025-06-02",
          "2025-06-03",
          "2025-06-04",
          "2025-06-05",
          "2025-06-06",
          "2025-06-07",
          "2025-06-08",
          "2025-06-09",
          "2025-06-10",
          "2025-06-11",
          "2025-06-12",
          "2025-06-13",
          "2025-06-14",
          "2025-06-15",
          "2025-06-16",
          "2025-06-17",
          "2025-06-18",
          "2025-06-19",
          "2025-06-20",
          "2025-06-21",
          "2025-06-22",
          "2025-06-23",
          "2025-06-24",
          "2025-06-25",
          "2025-06-26",
          "2025-06-27",
          "2025-06-28",
          "2025-06-29",
          "2025-06-30",
          "2025-07-01",
          "2025-07-02",
          "2025-07-03",
          "2025-07-04",
          "2025-07-05",
          "2025-07-06",
          "2025-07-07",
          "2025-07-08",
          "2025-07-09",
          "2025-07-10",
          "2025-07-12",
          "2025-07-13",
          "2025-07-14",
          "2025-07-15",
          "2025-07-16",
          "2025-07-17",
          "2025-07-20",
          "2025-07-21",
          "2025-07-22",
          "2025-07-23",
          "2025-07-24",
          "2025-07-25",
          "2025-07-26",
          "2025-07-27",
          "2025-07-29",
          "2025-07-30",
          "2025-07-31",
          "2025-08-01",
          "2025-08-02",
          "2025-08-03",
          "2025-08-04",
          "2025-08-05",
          "2025-08-06",
          "2025-08-07",
          "2025-08-08",
          "2025-08-09",
          "2025-08-10",
          "2025-08-12",
          "2025-08-13",
          "2025-08-14",
          "2025-08-16",
          "2025-08-17",
          "2025-08-18",
          "2025-08-19",
          "2025-08-20",
          "2025-08-21",
          "2025-08-22",
          "2025-08-23",
          "2025-08-24",
          "2025-08-25",
          "2025-08-26"
         ],
         "xaxis": "x",
         "y": {
          "bdata": "AAAAAAAA8D9Ait4QdzEwQMUwzJdoI8BA+Wt7R1YmJEB6cb61Rz26QBxZczoOXclAx6Imyp1BvECWra09SdHYQEOMOfPcDeFAKVLqYee3zkC9MjodyWFBQAZF6kpQzQdA3jhGnigh1UAukugqVK+rQNf9NkscQsxAqibsAQkTWkDUTLv2YmDdQIUDB8jlw+hAAAAAAAAAAACIfcK2Gn0iQNh9KGYlnNJAAAAAAAAAAAAAAAAAAAAAABDvD4x0J6xAAAAAAAAAAADIJhSxrhfRQDhl2QxlGkRAAAAAAAAAAABob9om4Nd4QNP4fIWTC9VASlZn/LTpZ0AAAAAAAAAAAAAAAAAAAAAAAAAAAAAAAACkaYQURrDXQMKjswuFrlZAAAAAAAAAAADIlhPjYfFXQAAAAAAAAAAAoCpWeHfRs0AAAAAAAAAAAAAAAAAAAAAAxX2VbwmgZkCc7anwmla/QGBd89TZ59RAvd2Np2d+qkAAAAAAAAAAAJeG3zsP5ltAfLtjrdjNcEAAAAAAAAAAAAAAAAAAAAAAAAAAAAAAAAAAAAAAAAAAAAAAAAAAAAAAAAAAAAAAAAC8dwzmNt/WQAAAAAAAxKdAAAAAAAAAAAAZ11Wpuv45QLZ+SGbGa4dAzMzMzMw2vkAAAAAAAAAAAFKU+Vyi0VVAsaP+vspx3EC7OYwRVTfUQAAAAAAAAAAAmZmZmRn61kAAAAAAAAAAAGdmZmbmldpAzszMzAxe0kCbmZmZmaXTQDkKVUU6u8BAiXk3YtV91ED+/////+7EQAAAAAAAAAAAhXy7CTktfEAAAAAAAAAAABXLvPBfrLNAua945sPt30CBx7uM8WhTQAAAAAAAAAAAAAAAAAAAAAAAAAAAAAAAAAAAAAAAAAAAAAAAAAAAAAAAAAAAAAAAAEPXXxQoXVBAAAAAAAAAAAAAAAAAAAAAAIIgSBKjJP5AAAAAAAAAAAAAAAAAAAAAAAAAAAAAAAAAAAAAAAAAAADZzvdTQ9XxQAAAAAAAAAAA7bkcvyP+cUAAAAAAAAAAAAAAAAAAAAAAAAAAAAAAAAAAAAAAAAAAAAAAAAAAAAAA9UpZhjDT0EAAAAAAAAAAAAAAAAAAAAAAAAAAAAAAAAC11U93F6XiQNZWOIMYXdVA31glmUda8EAAAAAAAAAAAAAAAAAAAAAAAAAAAAAAAAAAAAAAAAAAALdb7y6oKGBA2SgMfXNOY0DCFyZTBRLQQNA+XLk+WCVAAAAAAAAAAAAoRvTpDqiNQJNDXo59XdZA",
          "dtype": "f8"
         },
         "yaxis": "y"
        },
        {
         "hovertemplate": "<b>%{x}</b><br>Burn: %{y:,.2f}<br><extra></extra>",
         "marker": {
          "color": "#FF4444"
         },
         "name": "Burn",
         "opacity": 0.7,
         "type": "bar",
         "x": [
          "2025-04-14",
          "2025-04-17",
          "2025-04-18",
          "2025-04-20",
          "2025-04-21",
          "2025-04-22",
          "2025-04-23",
          "2025-04-24",
          "2025-04-25",
          "2025-04-26",
          "2025-04-27",
          "2025-04-28",
          "2025-04-29",
          "2025-04-30",
          "2025-05-01",
          "2025-05-02",
          "2025-05-03",
          "2025-05-04",
          "2025-05-05",
          "2025-05-06",
          "2025-05-07",
          "2025-05-08",
          "2025-05-09",
          "2025-05-10",
          "2025-05-11",
          "2025-05-13",
          "2025-05-14",
          "2025-05-15",
          "2025-05-16",
          "2025-05-18",
          "2025-05-20",
          "2025-05-22",
          "2025-05-23",
          "2025-05-24",
          "2025-05-26",
          "2025-05-28",
          "2025-05-29",
          "2025-05-30",
          "2025-05-31",
          "2025-06-01",
          "2025-06-02",
          "2025-06-03",
          "2025-06-04",
          "2025-06-05",
          "2025-06-06",
          "2025-06-07",
          "2025-06-08",
          "2025-06-09",
          "2025-06-10",
          "2025-06-11",
          "2025-06-12",
          "2025-06-13",
          "2025-06-14",
          "2025-06-15",
          "2025-06-16",
          "2025-06-17",
          "2025-06-18",
          "2025-06-19",
          "2025-06-20",
          "2025-06-21",
          "2025-06-22",
          "2025-06-23",
          "2025-06-24",
          "2025-06-25",
          "2025-06-26",
          "2025-06-27",
          "2025-06-28",
          "2025-06-29",
          "2025-06-30",
          "2025-07-01",
          "2025-07-02",
          "2025-07-03",
          "2025-07-04",
          "2025-07-05",
          "2025-07-06",
          "2025-07-07",
          "2025-07-08",
          "2025-07-09",
          "2025-07-10",
          "2025-07-12",
          "2025-07-13",
          "2025-07-14",
          "2025-07-15",
          "2025-07-16",
          "2025-07-17",
          "2025-07-20",
          "2025-07-21",
          "2025-07-22",
          "2025-07-23",
          "2025-07-24",
          "2025-07-25",
          "2025-07-26",
          "2025-07-27",
          "2025-07-29",
          "2025-07-30",
          "2025-07-31",
          "2025-08-01",
          "2025-08-02",
          "2025-08-03",
          "2025-08-04",
          "2025-08-05",
          "2025-08-06",
          "2025-08-07",
          "2025-08-08",
          "2025-08-09",
          "2025-08-10",
          "2025-08-12",
          "2025-08-13",
          "2025-08-14",
          "2025-08-16",
          "2025-08-17",
          "2025-08-18",
          "2025-08-19",
          "2025-08-20",
          "2025-08-21",
          "2025-08-22",
          "2025-08-23",
          "2025-08-24",
          "2025-08-25",
          "2025-08-26"
         ],
         "xaxis": "x",
         "y": {
          "bdata": "AAAAAAAAAABAit4QdzEwQAAAAAAAAAAAAAAAAAAAAADLIPC0TuJKQAAAAAAAAAAABgQXrbIuY0CrD5Tvuy+OQAAAAAAAAAAAAAAAAAAAAAAAAAAAAAAAAAAAAAAAAAAARQunIaO3sEAAAAAAAAAAAAAAAAAAAAAAAAAAAAAAAAAAAAAAAAAAAPyKIs4Cn8BAAAAAAAAAAAAAAAAAAAAAAFLcATJm/LhAAAAAAAAAAAAAAAAAAAAAAAAAAAAAAAAAAAAAAAAAAAAAAAAAAAAAAAAAAAAAAAAAAAAAAAAAAAAAAAAAAAAAAAAAAAAAAAAAAAAAAAAAAABq0TEdsgNkQKQpLGS/aTFAAAAAAAAAAAAAAAAAAAAAAAAAAAAAAAAAAAAAAAAAAAAAAAAAAAAAAAAAAAAAAAAAAAAAAAAAAAAAAAAAAAAAAHzQHeYnV+9AAAAAAAAAAAAAAAAAAAAAAAAAAAAAAAAAAAAAAAAAAAAAAAAAAAAAAAAAAAAAAAAAAAAAAAAAAAAAAAAAAAAAAAAAAAAAAAAAAAAAAAAAAACamZmZmfmzQAAAAAAAAAAAAAAAAAAAAACtAQrj63F6QAAAAAAAAAAAMzMzMzOLvUCamZmZmXXUQA9VByd409FAAAAAAABIs0AzMzMzs/TwQJqZmZmZAa5AAAAAAAAAAAAAAAAAAAAAAFSTJNJrP95AAAAAAAAAAAAAAAAAACDNQAAAAAAAAAAAAAAAAAAAAAAAAAAAAAAAAAAAAAAAAAAAAAAAAAAAAAAAAAAAAAAAAJqZmZmZd7RAZmZmZmbCrkAAAAAAAAAAAM3MzMzMFK1AAAAAAAAAAAAAAAAAAAAAAAAAAAAAAAAAAAAAAAAAAAAAAAAAAAAAAAAAAAAAAAAAAAAAAAAAAAAAAAAAAAAAAAAAAAAAAAAAAAAAAAAAAAAAAAAAAAAAAAAAAAAAAAAAAAAAAAAAAAAAAAAAAAAAAAAAAAAAAAAA5Qd113lpVUAAAAAAAAAAAJ/NtePpvftAAAAAAAAAAAAAAAAAAAAAAAAAAAAAAAAA9pUEYjLqcEANzHqdYO4vQAAAAAAAAAAAAAAAAAAAAAAAAAAAAAAAAAAAAAAAAAAAAAAAAAAAAADJ2YHG8y5LQAAAAAAAAAAAAAAAAAAAAACRUcAplnTQQGU0HdnnsNJAXj+p6w5U2UAAAAAAAAAAAM2vTasWPpxAAAAAAAAAAAAAAAAAAAAAAAAAAAAAAAAAAAAAAAAAAAAAAAAAAAAAAAAAAAAAAAAA",
          "dtype": "f8"
         },
         "yaxis": "y"
        },
        {
         "hovertemplate": "<b>%{x}</b><br>Net Change: %{y:,.2f}<br><extra></extra>",
         "line": {
          "color": "#666666",
          "width": 1
         },
         "marker": {
          "size": 3
         },
         "mode": "lines+markers",
         "name": "Net Change",
         "type": "scatter",
         "x": [
          "2025-04-14",
          "2025-04-17",
          "2025-04-18",
          "2025-04-20",
          "2025-04-21",
          "2025-04-22",
          "2025-04-23",
          "2025-04-24",
          "2025-04-25",
          "2025-04-26",
          "2025-04-27",
          "2025-04-28",
          "2025-04-29",
          "2025-04-30",
          "2025-05-01",
          "2025-05-02",
          "2025-05-03",
          "2025-05-04",
          "2025-05-05",
          "2025-05-06",
          "2025-05-07",
          "2025-05-08",
          "2025-05-09",
          "2025-05-10",
          "2025-05-11",
          "2025-05-13",
          "2025-05-14",
          "2025-05-15",
          "2025-05-16",
          "2025-05-18",
          "2025-05-20",
          "2025-05-22",
          "2025-05-23",
          "2025-05-24",
          "2025-05-26",
          "2025-05-28",
          "2025-05-29",
          "2025-05-30",
          "2025-05-31",
          "2025-06-01",
          "2025-06-02",
          "2025-06-03",
          "2025-06-04",
          "2025-06-05",
          "2025-06-06",
          "2025-06-07",
          "2025-06-08",
          "2025-06-09",
          "2025-06-10",
          "2025-06-11",
          "2025-06-12",
          "2025-06-13",
          "2025-06-14",
          "2025-06-15",
          "2025-06-16",
          "2025-06-17",
          "2025-06-18",
          "2025-06-19",
          "2025-06-20",
          "2025-06-21",
          "2025-06-22",
          "2025-06-23",
          "2025-06-24",
          "2025-06-25",
          "2025-06-26",
          "2025-06-27",
          "2025-06-28",
          "2025-06-29",
          "2025-06-30",
          "2025-07-01",
          "2025-07-02",
          "2025-07-03",
          "2025-07-04",
          "2025-07-05",
          "2025-07-06",
          "2025-07-07",
          "2025-07-08",
          "2025-07-09",
          "2025-07-10",
          "2025-07-12",
          "2025-07-13",
          "2025-07-14",
          "2025-07-15",
          "2025-07-16",
          "2025-07-17",
          "2025-07-20",
          "2025-07-21",
          "2025-07-22",
          "2025-07-23",
          "2025-07-24",
          "2025-07-25",
          "2025-07-26",
          "2025-07-27",
          "2025-07-29",
          "2025-07-30",
          "2025-07-31",
          "2025-08-01",
          "2025-08-02",
          "2025-08-03",
          "2025-08-04",
          "2025-08-05",
          "2025-08-06",
          "2025-08-07",
          "2025-08-08",
          "2025-08-09",
          "2025-08-10",
          "2025-08-12",
          "2025-08-13",
          "2025-08-14",
          "2025-08-16",
          "2025-08-17",
          "2025-08-18",
          "2025-08-19",
          "2025-08-20",
          "2025-08-21",
          "2025-08-22",
          "2025-08-23",
          "2025-08-24",
          "2025-08-25",
          "2025-08-26"
         ],
         "xaxis": "x",
         "y": {
          "bdata": "AAAAAAAA8D8AAAAAAAAAAMUwzJdoI8BA+Wt7R1YmJEA4kVQYgwe6QBxZczoOXclAp+q9NCiou0AZDTFey9/XQEOMOfPcDeFAKVLqYee3zkC9MjodyWFBQAZF6kpQzQdADXbc1T/z0EAukugqVK+rQNf9NkscQsxAqibsAQkTWkDUTLv2YmDdQMZgfhQlnORAAAAAAAAAAACIfcK2Gn0iQIcNULMXushAAAAAAAAAAAAAAAAAAAAAABDvD4x0J6xAAAAAAAAAAADIJhSxrhfRQDhl2QxlGkRAAAAAAAAAAABob9om4Nd4QNP4fIWTC9VASlZn/LTpZ0Bq0TEdsgNkwKQpLGS/aTHAAAAAAAAAAACkaYQURrDXQMKjswuFrlZAAAAAAAAAAADIlhPjYfFXQAAAAAAAAAAAoCpWeHfRs0AAAAAAAAAAAHzQHeYnV+/AxX2VbwmgZkCc7anwmla/QGBd89TZ59RAvd2Np2d+qkAAAAAAAAAAAJeG3zsP5ltAfLtjrdjNcEAAAAAAAAAAAAAAAAAAAAAAAAAAAAAAAACamZmZmfmzwAAAAAAAAAAAAAAAAAAAAAC1T4A2b3XWQAAAAAAAxKdAMzMzMzOLvcAkRO/qGW/UwBkR1fMZGNHAmJmZmZndpUAzMzMzs/TwwPfMsYYMU63AsaP+vspx3EC7OYwRVTfUQFSTJNJrP97AmZmZmRn61kAAAAAAACDNwGdmZmbmldpAzszMzAxe0kCbmZmZmaXTQDkKVUU6u8BAiXk3YtV91ED+/////+7EQJqZmZmZd7TA1fYuRb88q8AAAAAAAAAAALqSWSnmh5RAua945sPt30CBx7uM8WhTQAAAAAAAAAAAAAAAAAAAAAAAAAAAAAAAAAAAAAAAAAAAAAAAAAAAAAAAAAAAAAAAAEPXXxQoXVBAAAAAAAAAAAAAAAAAAAAAAIIgSBKjJP5AAAAAAAAAAAAAAAAAAAAAAAAAAAAAAAAA5Qd113lpVcDZzvdTQ9XxQJ/NtePpvfvA7bkcvyP+cUAAAAAAAAAAAAAAAAAAAAAA9pUEYjLqcMANzHqdYO4vwAAAAAAAAAAA9UpZhjDT0EAAAAAAAAAAAAAAAAAAAAAAAAAAAAAAAAA/NV66S57iQNZWOIMYXdVA31glmUda8ECRUcAplnTQwGU0HdnnsNLAXj+p6w5U2cAAAAAAAAAAAFbEb6UBOZrA2SgMfXNOY0DCFyZTBRLQQNA+XLk+WCVAAAAAAAAAAAAoRvTpDqiNQJNDXo59XdZA",
          "dtype": "f8"
         },
         "yaxis": "y"
        },
        {
         "hovertemplate": "<b>%{x}</b><br>Cumulative Supply: %{y:,.2f}<br><extra></extra>",
         "line": {
          "color": "#2196F3",
          "width": 3
         },
         "name": "Supply",
         "type": "scatter",
         "x": [
          "2025-04-14",
          "2025-04-17",
          "2025-04-18",
          "2025-04-20",
          "2025-04-21",
          "2025-04-22",
          "2025-04-23",
          "2025-04-24",
          "2025-04-25",
          "2025-04-26",
          "2025-04-27",
          "2025-04-28",
          "2025-04-29",
          "2025-04-30",
          "2025-05-01",
          "2025-05-02",
          "2025-05-03",
          "2025-05-04",
          "2025-05-05",
          "2025-05-06",
          "2025-05-07",
          "2025-05-08",
          "2025-05-09",
          "2025-05-10",
          "2025-05-11",
          "2025-05-13",
          "2025-05-14",
          "2025-05-15",
          "2025-05-16",
          "2025-05-18",
          "2025-05-20",
          "2025-05-22",
          "2025-05-23",
          "2025-05-24",
          "2025-05-26",
          "2025-05-28",
          "2025-05-29",
          "2025-05-30",
          "2025-05-31",
          "2025-06-01",
          "2025-06-02",
          "2025-06-03",
          "2025-06-04",
          "2025-06-05",
          "2025-06-06",
          "2025-06-07",
          "2025-06-08",
          "2025-06-09",
          "2025-06-10",
          "2025-06-11",
          "2025-06-12",
          "2025-06-13",
          "2025-06-14",
          "2025-06-15",
          "2025-06-16",
          "2025-06-17",
          "2025-06-18",
          "2025-06-19",
          "2025-06-20",
          "2025-06-21",
          "2025-06-22",
          "2025-06-23",
          "2025-06-24",
          "2025-06-25",
          "2025-06-26",
          "2025-06-27",
          "2025-06-28",
          "2025-06-29",
          "2025-06-30",
          "2025-07-01",
          "2025-07-02",
          "2025-07-03",
          "2025-07-04",
          "2025-07-05",
          "2025-07-06",
          "2025-07-07",
          "2025-07-08",
          "2025-07-09",
          "2025-07-10",
          "2025-07-12",
          "2025-07-13",
          "2025-07-14",
          "2025-07-15",
          "2025-07-16",
          "2025-07-17",
          "2025-07-20",
          "2025-07-21",
          "2025-07-22",
          "2025-07-23",
          "2025-07-24",
          "2025-07-25",
          "2025-07-26",
          "2025-07-27",
          "2025-07-29",
          "2025-07-30",
          "2025-07-31",
          "2025-08-01",
          "2025-08-02",
          "2025-08-03",
          "2025-08-04",
          "2025-08-05",
          "2025-08-06",
          "2025-08-07",
          "2025-08-08",
          "2025-08-09",
          "2025-08-10",
          "2025-08-12",
          "2025-08-13",
          "2025-08-14",
          "2025-08-16",
          "2025-08-17",
          "2025-08-18",
          "2025-08-19",
          "2025-08-20",
          "2025-08-21",
          "2025-08-22",
          "2025-08-23",
          "2025-08-24",
          "2025-08-25",
          "2025-08-26"
         ],
         "xaxis": "x2",
         "y": {
          "bdata": "AAAAAAAA8D8AAAAAAADwP8UwzJfoI8BAoA9eLfIowEA8WIi5syzNQKzY/fngRNtAqqmWg3UX4UA3MK8yWwftQD1e9BKcCvdAgqgx/5jh+kDIT1U4xeP6QJ3l9dL04/pAIANtyMQg/0CyR8RpP/7/QLaTlXlBwwFBO9G12oPGAUHVOo05kHIFQQbTrH6ZmQpBBtOsfpmZCkEQrhdz45kKQeiuTO6EJQxB6K5M7oQlDEHorkzuhCUMQaTufMAilgxBpO58wCKWDEF8c5+WGLkOQRJB8Dxaug5BEkHwPFq6DkFKrgMtxsYOQbKm2U4ctBBBnTN5hRm3EEFjjTUPmbQQQbL8N2hTtBBBsvw3aFO0EEFMQ4DJVy8SQYb+0LHCMBJBhv7QscIwEkG/L+/HQTISQb8v78dBMhJBaYjQpYeBEkFpiNClh4ESQbScGVJFLQ1BFIJ1VO0yDUGA0foroi0OQZaeTLNOZRBBUbqbgkuaEEFRupuCS5oQQUl4j+MJnBBBONG6WT2gEEE40bpZPaAQQTjRulk9oBBBONG6WT2gEEHSalTzVlAQQdJqVPNWUBBB0mpU81ZQEEHNb7zmrbcRQc1vvOY15xFBAKPvGQlxEUG+rkB7FyoQQVe7BrgrMQ5BvSFtHqKIDkEkiNOESA4GQfDAuFL8mAVBZpWYqjUnCUGeHMpMIK4LQTSKhdIy5gdBaL24BXbFCkFovbgFdvMIQTSKhdIyRgxBziMfbPSRDkGBK6nPU4MQQdPT06EtCRFBa0v39wpREkFrS/f3gvgSQQXlkJGkphJBGIcGEytwEkEYhwYTK3ASQargL/myhBJBpmuXN4+DFEFiN7DGxYQUQWI3sMbFhBRBYjewxsWEFEFiN7DGxYQUQWI3sMbFhBRBYjewxsWEFEFiN7DGxYQUQWB9MZnLhRRBYH0xmcuFFEFgfTGZy4UUQYCFw130DhxBgIXDXfQOHEGAhcNd9A4cQYCFw130DhxBMA4mxp0NHEHzAJJNd0EgQX6ONiJ0kxlBrFUmq/OXGUGsVSar85cZQaxVJqvzlxlBh9SNHrmTGUGRmcxBeZMZQZGZzEF5kxlBQS4ySqygGkFBLjJKrKAaQUEuMkqsoBpBQS4ySqygGkHo9H3BdfQcQVZ6sUlHSh5BR2j9l2wwIUG6Za/mx6wgQRh85qdAFyBBOWQSYUCZHkE5ZBJhQJkeQXX0bF8Hfx5B+5XcLXGBHkF39w6DkYIfQS9qjDO8gh9BL2qMM7yCH0FTZAE7kJEfQUak8wm0eyBB",
          "dtype": "f8"
         },
         "yaxis": "y2"
        }
       ],
       "layout": {
        "barmode": "overlay",
        "height": 700,
        "hovermode": "x unified",
        "legend": {
         "bgcolor": "rgba(255,255,255,0.8)",
         "orientation": "h",
         "x": 1,
         "xanchor": "right",
         "y": 1.02,
         "yanchor": "bottom"
        },
        "shapes": [
         {
          "line": {
           "color": "gray",
           "dash": "dash"
          },
          "type": "line",
          "x0": 0,
          "x1": 1,
          "xref": "x domain",
          "y0": 0,
          "y1": 0,
          "yref": "y"
         }
        ],
        "showlegend": true,
        "template": {
         "data": {
          "bar": [
           {
            "error_x": {
             "color": "#2a3f5f"
            },
            "error_y": {
             "color": "#2a3f5f"
            },
            "marker": {
             "line": {
              "color": "#E5ECF6",
              "width": 0.5
             },
             "pattern": {
              "fillmode": "overlay",
              "size": 10,
              "solidity": 0.2
             }
            },
            "type": "bar"
           }
          ],
          "barpolar": [
           {
            "marker": {
             "line": {
              "color": "#E5ECF6",
              "width": 0.5
             },
             "pattern": {
              "fillmode": "overlay",
              "size": 10,
              "solidity": 0.2
             }
            },
            "type": "barpolar"
           }
          ],
          "carpet": [
           {
            "aaxis": {
             "endlinecolor": "#2a3f5f",
             "gridcolor": "white",
             "linecolor": "white",
             "minorgridcolor": "white",
             "startlinecolor": "#2a3f5f"
            },
            "baxis": {
             "endlinecolor": "#2a3f5f",
             "gridcolor": "white",
             "linecolor": "white",
             "minorgridcolor": "white",
             "startlinecolor": "#2a3f5f"
            },
            "type": "carpet"
           }
          ],
          "choropleth": [
           {
            "colorbar": {
             "outlinewidth": 0,
             "ticks": ""
            },
            "type": "choropleth"
           }
          ],
          "contour": [
           {
            "colorbar": {
             "outlinewidth": 0,
             "ticks": ""
            },
            "colorscale": [
             [
              0,
              "#0d0887"
             ],
             [
              0.1111111111111111,
              "#46039f"
             ],
             [
              0.2222222222222222,
              "#7201a8"
             ],
             [
              0.3333333333333333,
              "#9c179e"
             ],
             [
              0.4444444444444444,
              "#bd3786"
             ],
             [
              0.5555555555555556,
              "#d8576b"
             ],
             [
              0.6666666666666666,
              "#ed7953"
             ],
             [
              0.7777777777777778,
              "#fb9f3a"
             ],
             [
              0.8888888888888888,
              "#fdca26"
             ],
             [
              1,
              "#f0f921"
             ]
            ],
            "type": "contour"
           }
          ],
          "contourcarpet": [
           {
            "colorbar": {
             "outlinewidth": 0,
             "ticks": ""
            },
            "type": "contourcarpet"
           }
          ],
          "heatmap": [
           {
            "colorbar": {
             "outlinewidth": 0,
             "ticks": ""
            },
            "colorscale": [
             [
              0,
              "#0d0887"
             ],
             [
              0.1111111111111111,
              "#46039f"
             ],
             [
              0.2222222222222222,
              "#7201a8"
             ],
             [
              0.3333333333333333,
              "#9c179e"
             ],
             [
              0.4444444444444444,
              "#bd3786"
             ],
             [
              0.5555555555555556,
              "#d8576b"
             ],
             [
              0.6666666666666666,
              "#ed7953"
             ],
             [
              0.7777777777777778,
              "#fb9f3a"
             ],
             [
              0.8888888888888888,
              "#fdca26"
             ],
             [
              1,
              "#f0f921"
             ]
            ],
            "type": "heatmap"
           }
          ],
          "histogram": [
           {
            "marker": {
             "pattern": {
              "fillmode": "overlay",
              "size": 10,
              "solidity": 0.2
             }
            },
            "type": "histogram"
           }
          ],
          "histogram2d": [
           {
            "colorbar": {
             "outlinewidth": 0,
             "ticks": ""
            },
            "colorscale": [
             [
              0,
              "#0d0887"
             ],
             [
              0.1111111111111111,
              "#46039f"
             ],
             [
              0.2222222222222222,
              "#7201a8"
             ],
             [
              0.3333333333333333,
              "#9c179e"
             ],
             [
              0.4444444444444444,
              "#bd3786"
             ],
             [
              0.5555555555555556,
              "#d8576b"
             ],
             [
              0.6666666666666666,
              "#ed7953"
             ],
             [
              0.7777777777777778,
              "#fb9f3a"
             ],
             [
              0.8888888888888888,
              "#fdca26"
             ],
             [
              1,
              "#f0f921"
             ]
            ],
            "type": "histogram2d"
           }
          ],
          "histogram2dcontour": [
           {
            "colorbar": {
             "outlinewidth": 0,
             "ticks": ""
            },
            "colorscale": [
             [
              0,
              "#0d0887"
             ],
             [
              0.1111111111111111,
              "#46039f"
             ],
             [
              0.2222222222222222,
              "#7201a8"
             ],
             [
              0.3333333333333333,
              "#9c179e"
             ],
             [
              0.4444444444444444,
              "#bd3786"
             ],
             [
              0.5555555555555556,
              "#d8576b"
             ],
             [
              0.6666666666666666,
              "#ed7953"
             ],
             [
              0.7777777777777778,
              "#fb9f3a"
             ],
             [
              0.8888888888888888,
              "#fdca26"
             ],
             [
              1,
              "#f0f921"
             ]
            ],
            "type": "histogram2dcontour"
           }
          ],
          "mesh3d": [
           {
            "colorbar": {
             "outlinewidth": 0,
             "ticks": ""
            },
            "type": "mesh3d"
           }
          ],
          "parcoords": [
           {
            "line": {
             "colorbar": {
              "outlinewidth": 0,
              "ticks": ""
             }
            },
            "type": "parcoords"
           }
          ],
          "pie": [
           {
            "automargin": true,
            "type": "pie"
           }
          ],
          "scatter": [
           {
            "fillpattern": {
             "fillmode": "overlay",
             "size": 10,
             "solidity": 0.2
            },
            "type": "scatter"
           }
          ],
          "scatter3d": [
           {
            "line": {
             "colorbar": {
              "outlinewidth": 0,
              "ticks": ""
             }
            },
            "marker": {
             "colorbar": {
              "outlinewidth": 0,
              "ticks": ""
             }
            },
            "type": "scatter3d"
           }
          ],
          "scattercarpet": [
           {
            "marker": {
             "colorbar": {
              "outlinewidth": 0,
              "ticks": ""
             }
            },
            "type": "scattercarpet"
           }
          ],
          "scattergeo": [
           {
            "marker": {
             "colorbar": {
              "outlinewidth": 0,
              "ticks": ""
             }
            },
            "type": "scattergeo"
           }
          ],
          "scattergl": [
           {
            "marker": {
             "colorbar": {
              "outlinewidth": 0,
              "ticks": ""
             }
            },
            "type": "scattergl"
           }
          ],
          "scattermap": [
           {
            "marker": {
             "colorbar": {
              "outlinewidth": 0,
              "ticks": ""
             }
            },
            "type": "scattermap"
           }
          ],
          "scattermapbox": [
           {
            "marker": {
             "colorbar": {
              "outlinewidth": 0,
              "ticks": ""
             }
            },
            "type": "scattermapbox"
           }
          ],
          "scatterpolar": [
           {
            "marker": {
             "colorbar": {
              "outlinewidth": 0,
              "ticks": ""
             }
            },
            "type": "scatterpolar"
           }
          ],
          "scatterpolargl": [
           {
            "marker": {
             "colorbar": {
              "outlinewidth": 0,
              "ticks": ""
             }
            },
            "type": "scatterpolargl"
           }
          ],
          "scatterternary": [
           {
            "marker": {
             "colorbar": {
              "outlinewidth": 0,
              "ticks": ""
             }
            },
            "type": "scatterternary"
           }
          ],
          "surface": [
           {
            "colorbar": {
             "outlinewidth": 0,
             "ticks": ""
            },
            "colorscale": [
             [
              0,
              "#0d0887"
             ],
             [
              0.1111111111111111,
              "#46039f"
             ],
             [
              0.2222222222222222,
              "#7201a8"
             ],
             [
              0.3333333333333333,
              "#9c179e"
             ],
             [
              0.4444444444444444,
              "#bd3786"
             ],
             [
              0.5555555555555556,
              "#d8576b"
             ],
             [
              0.6666666666666666,
              "#ed7953"
             ],
             [
              0.7777777777777778,
              "#fb9f3a"
             ],
             [
              0.8888888888888888,
              "#fdca26"
             ],
             [
              1,
              "#f0f921"
             ]
            ],
            "type": "surface"
           }
          ],
          "table": [
           {
            "cells": {
             "fill": {
              "color": "#EBF0F8"
             },
             "line": {
              "color": "white"
             }
            },
            "header": {
             "fill": {
              "color": "#C8D4E3"
             },
             "line": {
              "color": "white"
             }
            },
            "type": "table"
           }
          ]
         },
         "layout": {
          "annotationdefaults": {
           "arrowcolor": "#2a3f5f",
           "arrowhead": 0,
           "arrowwidth": 1
          },
          "autotypenumbers": "strict",
          "coloraxis": {
           "colorbar": {
            "outlinewidth": 0,
            "ticks": ""
           }
          },
          "colorscale": {
           "diverging": [
            [
             0,
             "#8e0152"
            ],
            [
             0.1,
             "#c51b7d"
            ],
            [
             0.2,
             "#de77ae"
            ],
            [
             0.3,
             "#f1b6da"
            ],
            [
             0.4,
             "#fde0ef"
            ],
            [
             0.5,
             "#f7f7f7"
            ],
            [
             0.6,
             "#e6f5d0"
            ],
            [
             0.7,
             "#b8e186"
            ],
            [
             0.8,
             "#7fbc41"
            ],
            [
             0.9,
             "#4d9221"
            ],
            [
             1,
             "#276419"
            ]
           ],
           "sequential": [
            [
             0,
             "#0d0887"
            ],
            [
             0.1111111111111111,
             "#46039f"
            ],
            [
             0.2222222222222222,
             "#7201a8"
            ],
            [
             0.3333333333333333,
             "#9c179e"
            ],
            [
             0.4444444444444444,
             "#bd3786"
            ],
            [
             0.5555555555555556,
             "#d8576b"
            ],
            [
             0.6666666666666666,
             "#ed7953"
            ],
            [
             0.7777777777777778,
             "#fb9f3a"
            ],
            [
             0.8888888888888888,
             "#fdca26"
            ],
            [
             1,
             "#f0f921"
            ]
           ],
           "sequentialminus": [
            [
             0,
             "#0d0887"
            ],
            [
             0.1111111111111111,
             "#46039f"
            ],
            [
             0.2222222222222222,
             "#7201a8"
            ],
            [
             0.3333333333333333,
             "#9c179e"
            ],
            [
             0.4444444444444444,
             "#bd3786"
            ],
            [
             0.5555555555555556,
             "#d8576b"
            ],
            [
             0.6666666666666666,
             "#ed7953"
            ],
            [
             0.7777777777777778,
             "#fb9f3a"
            ],
            [
             0.8888888888888888,
             "#fdca26"
            ],
            [
             1,
             "#f0f921"
            ]
           ]
          },
          "colorway": [
           "#636efa",
           "#EF553B",
           "#00cc96",
           "#ab63fa",
           "#FFA15A",
           "#19d3f3",
           "#FF6692",
           "#B6E880",
           "#FF97FF",
           "#FECB52"
          ],
          "font": {
           "color": "#2a3f5f"
          },
          "geo": {
           "bgcolor": "white",
           "lakecolor": "white",
           "landcolor": "#E5ECF6",
           "showlakes": true,
           "showland": true,
           "subunitcolor": "white"
          },
          "hoverlabel": {
           "align": "left"
          },
          "hovermode": "closest",
          "mapbox": {
           "style": "light"
          },
          "paper_bgcolor": "white",
          "plot_bgcolor": "#E5ECF6",
          "polar": {
           "angularaxis": {
            "gridcolor": "white",
            "linecolor": "white",
            "ticks": ""
           },
           "bgcolor": "#E5ECF6",
           "radialaxis": {
            "gridcolor": "white",
            "linecolor": "white",
            "ticks": ""
           }
          },
          "scene": {
           "xaxis": {
            "backgroundcolor": "#E5ECF6",
            "gridcolor": "white",
            "gridwidth": 2,
            "linecolor": "white",
            "showbackground": true,
            "ticks": "",
            "zerolinecolor": "white"
           },
           "yaxis": {
            "backgroundcolor": "#E5ECF6",
            "gridcolor": "white",
            "gridwidth": 2,
            "linecolor": "white",
            "showbackground": true,
            "ticks": "",
            "zerolinecolor": "white"
           },
           "zaxis": {
            "backgroundcolor": "#E5ECF6",
            "gridcolor": "white",
            "gridwidth": 2,
            "linecolor": "white",
            "showbackground": true,
            "ticks": "",
            "zerolinecolor": "white"
           }
          },
          "shapedefaults": {
           "line": {
            "color": "#2a3f5f"
           }
          },
          "ternary": {
           "aaxis": {
            "gridcolor": "white",
            "linecolor": "white",
            "ticks": ""
           },
           "baxis": {
            "gridcolor": "white",
            "linecolor": "white",
            "ticks": ""
           },
           "bgcolor": "#E5ECF6",
           "caxis": {
            "gridcolor": "white",
            "linecolor": "white",
            "ticks": ""
           }
          },
          "title": {
           "x": 0.05
          },
          "xaxis": {
           "automargin": true,
           "gridcolor": "white",
           "linecolor": "white",
           "ticks": "",
           "title": {
            "standoff": 15
           },
           "zerolinecolor": "white",
           "zerolinewidth": 2
          },
          "yaxis": {
           "automargin": true,
           "gridcolor": "white",
           "linecolor": "white",
           "ticks": "",
           "title": {
            "standoff": 15
           },
           "zerolinecolor": "white",
           "zerolinewidth": 2
          }
         }
        },
        "title": {
         "font": {
          "size": 18
         },
         "text": "$OPEN",
         "x": 0.5
        },
        "xaxis": {
         "anchor": "y",
         "domain": [
          0,
          1
         ],
         "matches": "x2",
         "showticklabels": false
        },
        "xaxis2": {
         "anchor": "y2",
         "domain": [
          0,
          1
         ],
         "tickangle": 45,
         "tickformat": "%Y-%m-%d",
         "title": {
          "text": "Date"
         }
        },
        "yaxis": {
         "anchor": "x",
         "domain": [
          0.4600000000000001,
          1
         ],
         "side": "left",
         "title": {
          "text": "Daily Mint/Burn & Net Change"
         }
        },
        "yaxis2": {
         "anchor": "x2",
         "domain": [
          0,
          0.36000000000000004
         ],
         "side": "left",
         "title": {
          "text": "Token Supply"
         }
        }
       }
      },
      "text/html": [
       "<div>            <script src=\"https://cdnjs.cloudflare.com/ajax/libs/mathjax/2.7.5/MathJax.js?config=TeX-AMS-MML_SVG\"></script><script type=\"text/javascript\">if (window.MathJax && window.MathJax.Hub && window.MathJax.Hub.Config) {window.MathJax.Hub.Config({SVG: {font: \"STIX-Web\"}});}</script>                <script type=\"text/javascript\">window.PlotlyConfig = {MathJaxConfig: 'local'};</script>\n",
       "        <script charset=\"utf-8\" src=\"https://cdn.plot.ly/plotly-3.1.0.min.js\" integrity=\"sha256-Ei4740bWZhaUTQuD6q9yQlgVCMPBz6CZWhevDYPv93A=\" crossorigin=\"anonymous\"></script>                <div id=\"b72f5fe5-8ae5-4982-a954-e5ea6e192193\" class=\"plotly-graph-div\" style=\"height:700px; width:100%;\"></div>            <script type=\"text/javascript\">                window.PLOTLYENV=window.PLOTLYENV || {};                                if (document.getElementById(\"b72f5fe5-8ae5-4982-a954-e5ea6e192193\")) {                    Plotly.newPlot(                        \"b72f5fe5-8ae5-4982-a954-e5ea6e192193\",                        [{\"hovertemplate\":\"\\u003cb\\u003e%{x}\\u003c\\u002fb\\u003e\\u003cbr\\u003eMint: %{y:,.2f}\\u003cbr\\u003e\\u003cextra\\u003e\\u003c\\u002fextra\\u003e\",\"marker\":{\"color\":\"#00C851\"},\"name\":\"Mint\",\"opacity\":0.7,\"x\":[\"2025-04-14\",\"2025-04-17\",\"2025-04-18\",\"2025-04-20\",\"2025-04-21\",\"2025-04-22\",\"2025-04-23\",\"2025-04-24\",\"2025-04-25\",\"2025-04-26\",\"2025-04-27\",\"2025-04-28\",\"2025-04-29\",\"2025-04-30\",\"2025-05-01\",\"2025-05-02\",\"2025-05-03\",\"2025-05-04\",\"2025-05-05\",\"2025-05-06\",\"2025-05-07\",\"2025-05-08\",\"2025-05-09\",\"2025-05-10\",\"2025-05-11\",\"2025-05-13\",\"2025-05-14\",\"2025-05-15\",\"2025-05-16\",\"2025-05-18\",\"2025-05-20\",\"2025-05-22\",\"2025-05-23\",\"2025-05-24\",\"2025-05-26\",\"2025-05-28\",\"2025-05-29\",\"2025-05-30\",\"2025-05-31\",\"2025-06-01\",\"2025-06-02\",\"2025-06-03\",\"2025-06-04\",\"2025-06-05\",\"2025-06-06\",\"2025-06-07\",\"2025-06-08\",\"2025-06-09\",\"2025-06-10\",\"2025-06-11\",\"2025-06-12\",\"2025-06-13\",\"2025-06-14\",\"2025-06-15\",\"2025-06-16\",\"2025-06-17\",\"2025-06-18\",\"2025-06-19\",\"2025-06-20\",\"2025-06-21\",\"2025-06-22\",\"2025-06-23\",\"2025-06-24\",\"2025-06-25\",\"2025-06-26\",\"2025-06-27\",\"2025-06-28\",\"2025-06-29\",\"2025-06-30\",\"2025-07-01\",\"2025-07-02\",\"2025-07-03\",\"2025-07-04\",\"2025-07-05\",\"2025-07-06\",\"2025-07-07\",\"2025-07-08\",\"2025-07-09\",\"2025-07-10\",\"2025-07-12\",\"2025-07-13\",\"2025-07-14\",\"2025-07-15\",\"2025-07-16\",\"2025-07-17\",\"2025-07-20\",\"2025-07-21\",\"2025-07-22\",\"2025-07-23\",\"2025-07-24\",\"2025-07-25\",\"2025-07-26\",\"2025-07-27\",\"2025-07-29\",\"2025-07-30\",\"2025-07-31\",\"2025-08-01\",\"2025-08-02\",\"2025-08-03\",\"2025-08-04\",\"2025-08-05\",\"2025-08-06\",\"2025-08-07\",\"2025-08-08\",\"2025-08-09\",\"2025-08-10\",\"2025-08-12\",\"2025-08-13\",\"2025-08-14\",\"2025-08-16\",\"2025-08-17\",\"2025-08-18\",\"2025-08-19\",\"2025-08-20\",\"2025-08-21\",\"2025-08-22\",\"2025-08-23\",\"2025-08-24\",\"2025-08-25\",\"2025-08-26\"],\"y\":{\"dtype\":\"f8\",\"bdata\":\"AAAAAAAA8D9Ait4QdzEwQMUwzJdoI8BA+Wt7R1YmJEB6cb61Rz26QBxZczoOXclAx6Imyp1BvECWra09SdHYQEOMOfPcDeFAKVLqYee3zkC9MjodyWFBQAZF6kpQzQdA3jhGnigh1UAukugqVK+rQNf9NkscQsxAqibsAQkTWkDUTLv2YmDdQIUDB8jlw+hAAAAAAAAAAACIfcK2Gn0iQNh9KGYlnNJAAAAAAAAAAAAAAAAAAAAAABDvD4x0J6xAAAAAAAAAAADIJhSxrhfRQDhl2QxlGkRAAAAAAAAAAABob9om4Nd4QNP4fIWTC9VASlZn\\u002fLTpZ0AAAAAAAAAAAAAAAAAAAAAAAAAAAAAAAACkaYQURrDXQMKjswuFrlZAAAAAAAAAAADIlhPjYfFXQAAAAAAAAAAAoCpWeHfRs0AAAAAAAAAAAAAAAAAAAAAAxX2VbwmgZkCc7anwmla\\u002fQGBd89TZ59RAvd2Np2d+qkAAAAAAAAAAAJeG3zsP5ltAfLtjrdjNcEAAAAAAAAAAAAAAAAAAAAAAAAAAAAAAAAAAAAAAAAAAAAAAAAAAAAAAAAAAAAAAAAC8dwzmNt\\u002fWQAAAAAAAxKdAAAAAAAAAAAAZ11Wpuv45QLZ+SGbGa4dAzMzMzMw2vkAAAAAAAAAAAFKU+Vyi0VVAsaP+vspx3EC7OYwRVTfUQAAAAAAAAAAAmZmZmRn61kAAAAAAAAAAAGdmZmbmldpAzszMzAxe0kCbmZmZmaXTQDkKVUU6u8BAiXk3YtV91ED+\\u002f\\u002f\\u002f\\u002f\\u002f+7EQAAAAAAAAAAAhXy7CTktfEAAAAAAAAAAABXLvPBfrLNAua945sPt30CBx7uM8WhTQAAAAAAAAAAAAAAAAAAAAAAAAAAAAAAAAAAAAAAAAAAAAAAAAAAAAAAAAAAAAAAAAEPXXxQoXVBAAAAAAAAAAAAAAAAAAAAAAIIgSBKjJP5AAAAAAAAAAAAAAAAAAAAAAAAAAAAAAAAAAAAAAAAAAADZzvdTQ9XxQAAAAAAAAAAA7bkcvyP+cUAAAAAAAAAAAAAAAAAAAAAAAAAAAAAAAAAAAAAAAAAAAAAAAAAAAAAA9UpZhjDT0EAAAAAAAAAAAAAAAAAAAAAAAAAAAAAAAAC11U93F6XiQNZWOIMYXdVA31glmUda8EAAAAAAAAAAAAAAAAAAAAAAAAAAAAAAAAAAAAAAAAAAALdb7y6oKGBA2SgMfXNOY0DCFyZTBRLQQNA+XLk+WCVAAAAAAAAAAAAoRvTpDqiNQJNDXo59XdZA\"},\"type\":\"bar\",\"xaxis\":\"x\",\"yaxis\":\"y\"},{\"hovertemplate\":\"\\u003cb\\u003e%{x}\\u003c\\u002fb\\u003e\\u003cbr\\u003eBurn: %{y:,.2f}\\u003cbr\\u003e\\u003cextra\\u003e\\u003c\\u002fextra\\u003e\",\"marker\":{\"color\":\"#FF4444\"},\"name\":\"Burn\",\"opacity\":0.7,\"x\":[\"2025-04-14\",\"2025-04-17\",\"2025-04-18\",\"2025-04-20\",\"2025-04-21\",\"2025-04-22\",\"2025-04-23\",\"2025-04-24\",\"2025-04-25\",\"2025-04-26\",\"2025-04-27\",\"2025-04-28\",\"2025-04-29\",\"2025-04-30\",\"2025-05-01\",\"2025-05-02\",\"2025-05-03\",\"2025-05-04\",\"2025-05-05\",\"2025-05-06\",\"2025-05-07\",\"2025-05-08\",\"2025-05-09\",\"2025-05-10\",\"2025-05-11\",\"2025-05-13\",\"2025-05-14\",\"2025-05-15\",\"2025-05-16\",\"2025-05-18\",\"2025-05-20\",\"2025-05-22\",\"2025-05-23\",\"2025-05-24\",\"2025-05-26\",\"2025-05-28\",\"2025-05-29\",\"2025-05-30\",\"2025-05-31\",\"2025-06-01\",\"2025-06-02\",\"2025-06-03\",\"2025-06-04\",\"2025-06-05\",\"2025-06-06\",\"2025-06-07\",\"2025-06-08\",\"2025-06-09\",\"2025-06-10\",\"2025-06-11\",\"2025-06-12\",\"2025-06-13\",\"2025-06-14\",\"2025-06-15\",\"2025-06-16\",\"2025-06-17\",\"2025-06-18\",\"2025-06-19\",\"2025-06-20\",\"2025-06-21\",\"2025-06-22\",\"2025-06-23\",\"2025-06-24\",\"2025-06-25\",\"2025-06-26\",\"2025-06-27\",\"2025-06-28\",\"2025-06-29\",\"2025-06-30\",\"2025-07-01\",\"2025-07-02\",\"2025-07-03\",\"2025-07-04\",\"2025-07-05\",\"2025-07-06\",\"2025-07-07\",\"2025-07-08\",\"2025-07-09\",\"2025-07-10\",\"2025-07-12\",\"2025-07-13\",\"2025-07-14\",\"2025-07-15\",\"2025-07-16\",\"2025-07-17\",\"2025-07-20\",\"2025-07-21\",\"2025-07-22\",\"2025-07-23\",\"2025-07-24\",\"2025-07-25\",\"2025-07-26\",\"2025-07-27\",\"2025-07-29\",\"2025-07-30\",\"2025-07-31\",\"2025-08-01\",\"2025-08-02\",\"2025-08-03\",\"2025-08-04\",\"2025-08-05\",\"2025-08-06\",\"2025-08-07\",\"2025-08-08\",\"2025-08-09\",\"2025-08-10\",\"2025-08-12\",\"2025-08-13\",\"2025-08-14\",\"2025-08-16\",\"2025-08-17\",\"2025-08-18\",\"2025-08-19\",\"2025-08-20\",\"2025-08-21\",\"2025-08-22\",\"2025-08-23\",\"2025-08-24\",\"2025-08-25\",\"2025-08-26\"],\"y\":{\"dtype\":\"f8\",\"bdata\":\"AAAAAAAAAABAit4QdzEwQAAAAAAAAAAAAAAAAAAAAADLIPC0TuJKQAAAAAAAAAAABgQXrbIuY0CrD5Tvuy+OQAAAAAAAAAAAAAAAAAAAAAAAAAAAAAAAAAAAAAAAAAAARQunIaO3sEAAAAAAAAAAAAAAAAAAAAAAAAAAAAAAAAAAAAAAAAAAAPyKIs4Cn8BAAAAAAAAAAAAAAAAAAAAAAFLcATJm\\u002fLhAAAAAAAAAAAAAAAAAAAAAAAAAAAAAAAAAAAAAAAAAAAAAAAAAAAAAAAAAAAAAAAAAAAAAAAAAAAAAAAAAAAAAAAAAAAAAAAAAAAAAAAAAAABq0TEdsgNkQKQpLGS\\u002faTFAAAAAAAAAAAAAAAAAAAAAAAAAAAAAAAAAAAAAAAAAAAAAAAAAAAAAAAAAAAAAAAAAAAAAAAAAAAAAAAAAAAAAAHzQHeYnV+9AAAAAAAAAAAAAAAAAAAAAAAAAAAAAAAAAAAAAAAAAAAAAAAAAAAAAAAAAAAAAAAAAAAAAAAAAAAAAAAAAAAAAAAAAAAAAAAAAAAAAAAAAAACamZmZmfmzQAAAAAAAAAAAAAAAAAAAAACtAQrj63F6QAAAAAAAAAAAMzMzMzOLvUCamZmZmXXUQA9VByd409FAAAAAAABIs0AzMzMzs\\u002fTwQJqZmZmZAa5AAAAAAAAAAAAAAAAAAAAAAFSTJNJrP95AAAAAAAAAAAAAAAAAACDNQAAAAAAAAAAAAAAAAAAAAAAAAAAAAAAAAAAAAAAAAAAAAAAAAAAAAAAAAAAAAAAAAJqZmZmZd7RAZmZmZmbCrkAAAAAAAAAAAM3MzMzMFK1AAAAAAAAAAAAAAAAAAAAAAAAAAAAAAAAAAAAAAAAAAAAAAAAAAAAAAAAAAAAAAAAAAAAAAAAAAAAAAAAAAAAAAAAAAAAAAAAAAAAAAAAAAAAAAAAAAAAAAAAAAAAAAAAAAAAAAAAAAAAAAAAAAAAAAAAAAAAAAAAA5Qd113lpVUAAAAAAAAAAAJ\\u002fNtePpvftAAAAAAAAAAAAAAAAAAAAAAAAAAAAAAAAA9pUEYjLqcEANzHqdYO4vQAAAAAAAAAAAAAAAAAAAAAAAAAAAAAAAAAAAAAAAAAAAAAAAAAAAAADJ2YHG8y5LQAAAAAAAAAAAAAAAAAAAAACRUcAplnTQQGU0HdnnsNJAXj+p6w5U2UAAAAAAAAAAAM2vTasWPpxAAAAAAAAAAAAAAAAAAAAAAAAAAAAAAAAAAAAAAAAAAAAAAAAAAAAAAAAAAAAAAAAA\"},\"type\":\"bar\",\"xaxis\":\"x\",\"yaxis\":\"y\"},{\"hovertemplate\":\"\\u003cb\\u003e%{x}\\u003c\\u002fb\\u003e\\u003cbr\\u003eNet Change: %{y:,.2f}\\u003cbr\\u003e\\u003cextra\\u003e\\u003c\\u002fextra\\u003e\",\"line\":{\"color\":\"#666666\",\"width\":1},\"marker\":{\"size\":3},\"mode\":\"lines+markers\",\"name\":\"Net Change\",\"x\":[\"2025-04-14\",\"2025-04-17\",\"2025-04-18\",\"2025-04-20\",\"2025-04-21\",\"2025-04-22\",\"2025-04-23\",\"2025-04-24\",\"2025-04-25\",\"2025-04-26\",\"2025-04-27\",\"2025-04-28\",\"2025-04-29\",\"2025-04-30\",\"2025-05-01\",\"2025-05-02\",\"2025-05-03\",\"2025-05-04\",\"2025-05-05\",\"2025-05-06\",\"2025-05-07\",\"2025-05-08\",\"2025-05-09\",\"2025-05-10\",\"2025-05-11\",\"2025-05-13\",\"2025-05-14\",\"2025-05-15\",\"2025-05-16\",\"2025-05-18\",\"2025-05-20\",\"2025-05-22\",\"2025-05-23\",\"2025-05-24\",\"2025-05-26\",\"2025-05-28\",\"2025-05-29\",\"2025-05-30\",\"2025-05-31\",\"2025-06-01\",\"2025-06-02\",\"2025-06-03\",\"2025-06-04\",\"2025-06-05\",\"2025-06-06\",\"2025-06-07\",\"2025-06-08\",\"2025-06-09\",\"2025-06-10\",\"2025-06-11\",\"2025-06-12\",\"2025-06-13\",\"2025-06-14\",\"2025-06-15\",\"2025-06-16\",\"2025-06-17\",\"2025-06-18\",\"2025-06-19\",\"2025-06-20\",\"2025-06-21\",\"2025-06-22\",\"2025-06-23\",\"2025-06-24\",\"2025-06-25\",\"2025-06-26\",\"2025-06-27\",\"2025-06-28\",\"2025-06-29\",\"2025-06-30\",\"2025-07-01\",\"2025-07-02\",\"2025-07-03\",\"2025-07-04\",\"2025-07-05\",\"2025-07-06\",\"2025-07-07\",\"2025-07-08\",\"2025-07-09\",\"2025-07-10\",\"2025-07-12\",\"2025-07-13\",\"2025-07-14\",\"2025-07-15\",\"2025-07-16\",\"2025-07-17\",\"2025-07-20\",\"2025-07-21\",\"2025-07-22\",\"2025-07-23\",\"2025-07-24\",\"2025-07-25\",\"2025-07-26\",\"2025-07-27\",\"2025-07-29\",\"2025-07-30\",\"2025-07-31\",\"2025-08-01\",\"2025-08-02\",\"2025-08-03\",\"2025-08-04\",\"2025-08-05\",\"2025-08-06\",\"2025-08-07\",\"2025-08-08\",\"2025-08-09\",\"2025-08-10\",\"2025-08-12\",\"2025-08-13\",\"2025-08-14\",\"2025-08-16\",\"2025-08-17\",\"2025-08-18\",\"2025-08-19\",\"2025-08-20\",\"2025-08-21\",\"2025-08-22\",\"2025-08-23\",\"2025-08-24\",\"2025-08-25\",\"2025-08-26\"],\"y\":{\"dtype\":\"f8\",\"bdata\":\"AAAAAAAA8D8AAAAAAAAAAMUwzJdoI8BA+Wt7R1YmJEA4kVQYgwe6QBxZczoOXclAp+q9NCiou0AZDTFey9\\u002fXQEOMOfPcDeFAKVLqYee3zkC9MjodyWFBQAZF6kpQzQdADXbc1T\\u002fz0EAukugqVK+rQNf9NkscQsxAqibsAQkTWkDUTLv2YmDdQMZgfhQlnORAAAAAAAAAAACIfcK2Gn0iQIcNULMXushAAAAAAAAAAAAAAAAAAAAAABDvD4x0J6xAAAAAAAAAAADIJhSxrhfRQDhl2QxlGkRAAAAAAAAAAABob9om4Nd4QNP4fIWTC9VASlZn\\u002fLTpZ0Bq0TEdsgNkwKQpLGS\\u002faTHAAAAAAAAAAACkaYQURrDXQMKjswuFrlZAAAAAAAAAAADIlhPjYfFXQAAAAAAAAAAAoCpWeHfRs0AAAAAAAAAAAHzQHeYnV+\\u002fAxX2VbwmgZkCc7anwmla\\u002fQGBd89TZ59RAvd2Np2d+qkAAAAAAAAAAAJeG3zsP5ltAfLtjrdjNcEAAAAAAAAAAAAAAAAAAAAAAAAAAAAAAAACamZmZmfmzwAAAAAAAAAAAAAAAAAAAAAC1T4A2b3XWQAAAAAAAxKdAMzMzMzOLvcAkRO\\u002fqGW\\u002fUwBkR1fMZGNHAmJmZmZndpUAzMzMzs\\u002fTwwPfMsYYMU63AsaP+vspx3EC7OYwRVTfUQFSTJNJrP97AmZmZmRn61kAAAAAAACDNwGdmZmbmldpAzszMzAxe0kCbmZmZmaXTQDkKVUU6u8BAiXk3YtV91ED+\\u002f\\u002f\\u002f\\u002f\\u002f+7EQJqZmZmZd7TA1fYuRb88q8AAAAAAAAAAALqSWSnmh5RAua945sPt30CBx7uM8WhTQAAAAAAAAAAAAAAAAAAAAAAAAAAAAAAAAAAAAAAAAAAAAAAAAAAAAAAAAAAAAAAAAEPXXxQoXVBAAAAAAAAAAAAAAAAAAAAAAIIgSBKjJP5AAAAAAAAAAAAAAAAAAAAAAAAAAAAAAAAA5Qd113lpVcDZzvdTQ9XxQJ\\u002fNtePpvfvA7bkcvyP+cUAAAAAAAAAAAAAAAAAAAAAA9pUEYjLqcMANzHqdYO4vwAAAAAAAAAAA9UpZhjDT0EAAAAAAAAAAAAAAAAAAAAAAAAAAAAAAAAA\\u002fNV66S57iQNZWOIMYXdVA31glmUda8ECRUcAplnTQwGU0HdnnsNLAXj+p6w5U2cAAAAAAAAAAAFbEb6UBOZrA2SgMfXNOY0DCFyZTBRLQQNA+XLk+WCVAAAAAAAAAAAAoRvTpDqiNQJNDXo59XdZA\"},\"type\":\"scatter\",\"xaxis\":\"x\",\"yaxis\":\"y\"},{\"hovertemplate\":\"\\u003cb\\u003e%{x}\\u003c\\u002fb\\u003e\\u003cbr\\u003eCumulative Supply: %{y:,.2f}\\u003cbr\\u003e\\u003cextra\\u003e\\u003c\\u002fextra\\u003e\",\"line\":{\"color\":\"#2196F3\",\"width\":3},\"name\":\"Supply\",\"x\":[\"2025-04-14\",\"2025-04-17\",\"2025-04-18\",\"2025-04-20\",\"2025-04-21\",\"2025-04-22\",\"2025-04-23\",\"2025-04-24\",\"2025-04-25\",\"2025-04-26\",\"2025-04-27\",\"2025-04-28\",\"2025-04-29\",\"2025-04-30\",\"2025-05-01\",\"2025-05-02\",\"2025-05-03\",\"2025-05-04\",\"2025-05-05\",\"2025-05-06\",\"2025-05-07\",\"2025-05-08\",\"2025-05-09\",\"2025-05-10\",\"2025-05-11\",\"2025-05-13\",\"2025-05-14\",\"2025-05-15\",\"2025-05-16\",\"2025-05-18\",\"2025-05-20\",\"2025-05-22\",\"2025-05-23\",\"2025-05-24\",\"2025-05-26\",\"2025-05-28\",\"2025-05-29\",\"2025-05-30\",\"2025-05-31\",\"2025-06-01\",\"2025-06-02\",\"2025-06-03\",\"2025-06-04\",\"2025-06-05\",\"2025-06-06\",\"2025-06-07\",\"2025-06-08\",\"2025-06-09\",\"2025-06-10\",\"2025-06-11\",\"2025-06-12\",\"2025-06-13\",\"2025-06-14\",\"2025-06-15\",\"2025-06-16\",\"2025-06-17\",\"2025-06-18\",\"2025-06-19\",\"2025-06-20\",\"2025-06-21\",\"2025-06-22\",\"2025-06-23\",\"2025-06-24\",\"2025-06-25\",\"2025-06-26\",\"2025-06-27\",\"2025-06-28\",\"2025-06-29\",\"2025-06-30\",\"2025-07-01\",\"2025-07-02\",\"2025-07-03\",\"2025-07-04\",\"2025-07-05\",\"2025-07-06\",\"2025-07-07\",\"2025-07-08\",\"2025-07-09\",\"2025-07-10\",\"2025-07-12\",\"2025-07-13\",\"2025-07-14\",\"2025-07-15\",\"2025-07-16\",\"2025-07-17\",\"2025-07-20\",\"2025-07-21\",\"2025-07-22\",\"2025-07-23\",\"2025-07-24\",\"2025-07-25\",\"2025-07-26\",\"2025-07-27\",\"2025-07-29\",\"2025-07-30\",\"2025-07-31\",\"2025-08-01\",\"2025-08-02\",\"2025-08-03\",\"2025-08-04\",\"2025-08-05\",\"2025-08-06\",\"2025-08-07\",\"2025-08-08\",\"2025-08-09\",\"2025-08-10\",\"2025-08-12\",\"2025-08-13\",\"2025-08-14\",\"2025-08-16\",\"2025-08-17\",\"2025-08-18\",\"2025-08-19\",\"2025-08-20\",\"2025-08-21\",\"2025-08-22\",\"2025-08-23\",\"2025-08-24\",\"2025-08-25\",\"2025-08-26\"],\"y\":{\"dtype\":\"f8\",\"bdata\":\"AAAAAAAA8D8AAAAAAADwP8UwzJfoI8BAoA9eLfIowEA8WIi5syzNQKzY\\u002ffngRNtAqqmWg3UX4UA3MK8yWwftQD1e9BKcCvdAgqgx\\u002f5jh+kDIT1U4xeP6QJ3l9dL04\\u002fpAIANtyMQg\\u002f0CyR8RpP\\u002f7\\u002fQLaTlXlBwwFBO9G12oPGAUHVOo05kHIFQQbTrH6ZmQpBBtOsfpmZCkEQrhdz45kKQeiuTO6EJQxB6K5M7oQlDEHorkzuhCUMQaTufMAilgxBpO58wCKWDEF8c5+WGLkOQRJB8Dxaug5BEkHwPFq6DkFKrgMtxsYOQbKm2U4ctBBBnTN5hRm3EEFjjTUPmbQQQbL8N2hTtBBBsvw3aFO0EEFMQ4DJVy8SQYb+0LHCMBJBhv7QscIwEkG\\u002fL+\\u002fHQTISQb8v78dBMhJBaYjQpYeBEkFpiNClh4ESQbScGVJFLQ1BFIJ1VO0yDUGA0foroi0OQZaeTLNOZRBBUbqbgkuaEEFRupuCS5oQQUl4j+MJnBBBONG6WT2gEEE40bpZPaAQQTjRulk9oBBBONG6WT2gEEHSalTzVlAQQdJqVPNWUBBB0mpU81ZQEEHNb7zmrbcRQc1vvOY15xFBAKPvGQlxEUG+rkB7FyoQQVe7BrgrMQ5BvSFtHqKIDkEkiNOESA4GQfDAuFL8mAVBZpWYqjUnCUGeHMpMIK4LQTSKhdIy5gdBaL24BXbFCkFovbgFdvMIQTSKhdIyRgxBziMfbPSRDkGBK6nPU4MQQdPT06EtCRFBa0v39wpREkFrS\\u002ff3gvgSQQXlkJGkphJBGIcGEytwEkEYhwYTK3ASQargL\\u002fmyhBJBpmuXN4+DFEFiN7DGxYQUQWI3sMbFhBRBYjewxsWEFEFiN7DGxYQUQWI3sMbFhBRBYjewxsWEFEFiN7DGxYQUQWB9MZnLhRRBYH0xmcuFFEFgfTGZy4UUQYCFw130DhxBgIXDXfQOHEGAhcNd9A4cQYCFw130DhxBMA4mxp0NHEHzAJJNd0EgQX6ONiJ0kxlBrFUmq\\u002fOXGUGsVSar85cZQaxVJqvzlxlBh9SNHrmTGUGRmcxBeZMZQZGZzEF5kxlBQS4ySqygGkFBLjJKrKAaQUEuMkqsoBpBQS4ySqygGkHo9H3BdfQcQVZ6sUlHSh5BR2j9l2wwIUG6Za\\u002fmx6wgQRh85qdAFyBBOWQSYUCZHkE5ZBJhQJkeQXX0bF8Hfx5B+5XcLXGBHkF39w6DkYIfQS9qjDO8gh9BL2qMM7yCH0FTZAE7kJEfQUak8wm0eyBB\"},\"type\":\"scatter\",\"xaxis\":\"x2\",\"yaxis\":\"y2\"}],                        {\"template\":{\"data\":{\"histogram2dcontour\":[{\"type\":\"histogram2dcontour\",\"colorbar\":{\"outlinewidth\":0,\"ticks\":\"\"},\"colorscale\":[[0.0,\"#0d0887\"],[0.1111111111111111,\"#46039f\"],[0.2222222222222222,\"#7201a8\"],[0.3333333333333333,\"#9c179e\"],[0.4444444444444444,\"#bd3786\"],[0.5555555555555556,\"#d8576b\"],[0.6666666666666666,\"#ed7953\"],[0.7777777777777778,\"#fb9f3a\"],[0.8888888888888888,\"#fdca26\"],[1.0,\"#f0f921\"]]}],\"choropleth\":[{\"type\":\"choropleth\",\"colorbar\":{\"outlinewidth\":0,\"ticks\":\"\"}}],\"histogram2d\":[{\"type\":\"histogram2d\",\"colorbar\":{\"outlinewidth\":0,\"ticks\":\"\"},\"colorscale\":[[0.0,\"#0d0887\"],[0.1111111111111111,\"#46039f\"],[0.2222222222222222,\"#7201a8\"],[0.3333333333333333,\"#9c179e\"],[0.4444444444444444,\"#bd3786\"],[0.5555555555555556,\"#d8576b\"],[0.6666666666666666,\"#ed7953\"],[0.7777777777777778,\"#fb9f3a\"],[0.8888888888888888,\"#fdca26\"],[1.0,\"#f0f921\"]]}],\"heatmap\":[{\"type\":\"heatmap\",\"colorbar\":{\"outlinewidth\":0,\"ticks\":\"\"},\"colorscale\":[[0.0,\"#0d0887\"],[0.1111111111111111,\"#46039f\"],[0.2222222222222222,\"#7201a8\"],[0.3333333333333333,\"#9c179e\"],[0.4444444444444444,\"#bd3786\"],[0.5555555555555556,\"#d8576b\"],[0.6666666666666666,\"#ed7953\"],[0.7777777777777778,\"#fb9f3a\"],[0.8888888888888888,\"#fdca26\"],[1.0,\"#f0f921\"]]}],\"contourcarpet\":[{\"type\":\"contourcarpet\",\"colorbar\":{\"outlinewidth\":0,\"ticks\":\"\"}}],\"contour\":[{\"type\":\"contour\",\"colorbar\":{\"outlinewidth\":0,\"ticks\":\"\"},\"colorscale\":[[0.0,\"#0d0887\"],[0.1111111111111111,\"#46039f\"],[0.2222222222222222,\"#7201a8\"],[0.3333333333333333,\"#9c179e\"],[0.4444444444444444,\"#bd3786\"],[0.5555555555555556,\"#d8576b\"],[0.6666666666666666,\"#ed7953\"],[0.7777777777777778,\"#fb9f3a\"],[0.8888888888888888,\"#fdca26\"],[1.0,\"#f0f921\"]]}],\"surface\":[{\"type\":\"surface\",\"colorbar\":{\"outlinewidth\":0,\"ticks\":\"\"},\"colorscale\":[[0.0,\"#0d0887\"],[0.1111111111111111,\"#46039f\"],[0.2222222222222222,\"#7201a8\"],[0.3333333333333333,\"#9c179e\"],[0.4444444444444444,\"#bd3786\"],[0.5555555555555556,\"#d8576b\"],[0.6666666666666666,\"#ed7953\"],[0.7777777777777778,\"#fb9f3a\"],[0.8888888888888888,\"#fdca26\"],[1.0,\"#f0f921\"]]}],\"mesh3d\":[{\"type\":\"mesh3d\",\"colorbar\":{\"outlinewidth\":0,\"ticks\":\"\"}}],\"scatter\":[{\"fillpattern\":{\"fillmode\":\"overlay\",\"size\":10,\"solidity\":0.2},\"type\":\"scatter\"}],\"parcoords\":[{\"type\":\"parcoords\",\"line\":{\"colorbar\":{\"outlinewidth\":0,\"ticks\":\"\"}}}],\"scatterpolargl\":[{\"type\":\"scatterpolargl\",\"marker\":{\"colorbar\":{\"outlinewidth\":0,\"ticks\":\"\"}}}],\"bar\":[{\"error_x\":{\"color\":\"#2a3f5f\"},\"error_y\":{\"color\":\"#2a3f5f\"},\"marker\":{\"line\":{\"color\":\"#E5ECF6\",\"width\":0.5},\"pattern\":{\"fillmode\":\"overlay\",\"size\":10,\"solidity\":0.2}},\"type\":\"bar\"}],\"scattergeo\":[{\"type\":\"scattergeo\",\"marker\":{\"colorbar\":{\"outlinewidth\":0,\"ticks\":\"\"}}}],\"scatterpolar\":[{\"type\":\"scatterpolar\",\"marker\":{\"colorbar\":{\"outlinewidth\":0,\"ticks\":\"\"}}}],\"histogram\":[{\"marker\":{\"pattern\":{\"fillmode\":\"overlay\",\"size\":10,\"solidity\":0.2}},\"type\":\"histogram\"}],\"scattergl\":[{\"type\":\"scattergl\",\"marker\":{\"colorbar\":{\"outlinewidth\":0,\"ticks\":\"\"}}}],\"scatter3d\":[{\"type\":\"scatter3d\",\"line\":{\"colorbar\":{\"outlinewidth\":0,\"ticks\":\"\"}},\"marker\":{\"colorbar\":{\"outlinewidth\":0,\"ticks\":\"\"}}}],\"scattermap\":[{\"type\":\"scattermap\",\"marker\":{\"colorbar\":{\"outlinewidth\":0,\"ticks\":\"\"}}}],\"scattermapbox\":[{\"type\":\"scattermapbox\",\"marker\":{\"colorbar\":{\"outlinewidth\":0,\"ticks\":\"\"}}}],\"scatterternary\":[{\"type\":\"scatterternary\",\"marker\":{\"colorbar\":{\"outlinewidth\":0,\"ticks\":\"\"}}}],\"scattercarpet\":[{\"type\":\"scattercarpet\",\"marker\":{\"colorbar\":{\"outlinewidth\":0,\"ticks\":\"\"}}}],\"carpet\":[{\"aaxis\":{\"endlinecolor\":\"#2a3f5f\",\"gridcolor\":\"white\",\"linecolor\":\"white\",\"minorgridcolor\":\"white\",\"startlinecolor\":\"#2a3f5f\"},\"baxis\":{\"endlinecolor\":\"#2a3f5f\",\"gridcolor\":\"white\",\"linecolor\":\"white\",\"minorgridcolor\":\"white\",\"startlinecolor\":\"#2a3f5f\"},\"type\":\"carpet\"}],\"table\":[{\"cells\":{\"fill\":{\"color\":\"#EBF0F8\"},\"line\":{\"color\":\"white\"}},\"header\":{\"fill\":{\"color\":\"#C8D4E3\"},\"line\":{\"color\":\"white\"}},\"type\":\"table\"}],\"barpolar\":[{\"marker\":{\"line\":{\"color\":\"#E5ECF6\",\"width\":0.5},\"pattern\":{\"fillmode\":\"overlay\",\"size\":10,\"solidity\":0.2}},\"type\":\"barpolar\"}],\"pie\":[{\"automargin\":true,\"type\":\"pie\"}]},\"layout\":{\"autotypenumbers\":\"strict\",\"colorway\":[\"#636efa\",\"#EF553B\",\"#00cc96\",\"#ab63fa\",\"#FFA15A\",\"#19d3f3\",\"#FF6692\",\"#B6E880\",\"#FF97FF\",\"#FECB52\"],\"font\":{\"color\":\"#2a3f5f\"},\"hovermode\":\"closest\",\"hoverlabel\":{\"align\":\"left\"},\"paper_bgcolor\":\"white\",\"plot_bgcolor\":\"#E5ECF6\",\"polar\":{\"bgcolor\":\"#E5ECF6\",\"angularaxis\":{\"gridcolor\":\"white\",\"linecolor\":\"white\",\"ticks\":\"\"},\"radialaxis\":{\"gridcolor\":\"white\",\"linecolor\":\"white\",\"ticks\":\"\"}},\"ternary\":{\"bgcolor\":\"#E5ECF6\",\"aaxis\":{\"gridcolor\":\"white\",\"linecolor\":\"white\",\"ticks\":\"\"},\"baxis\":{\"gridcolor\":\"white\",\"linecolor\":\"white\",\"ticks\":\"\"},\"caxis\":{\"gridcolor\":\"white\",\"linecolor\":\"white\",\"ticks\":\"\"}},\"coloraxis\":{\"colorbar\":{\"outlinewidth\":0,\"ticks\":\"\"}},\"colorscale\":{\"sequential\":[[0.0,\"#0d0887\"],[0.1111111111111111,\"#46039f\"],[0.2222222222222222,\"#7201a8\"],[0.3333333333333333,\"#9c179e\"],[0.4444444444444444,\"#bd3786\"],[0.5555555555555556,\"#d8576b\"],[0.6666666666666666,\"#ed7953\"],[0.7777777777777778,\"#fb9f3a\"],[0.8888888888888888,\"#fdca26\"],[1.0,\"#f0f921\"]],\"sequentialminus\":[[0.0,\"#0d0887\"],[0.1111111111111111,\"#46039f\"],[0.2222222222222222,\"#7201a8\"],[0.3333333333333333,\"#9c179e\"],[0.4444444444444444,\"#bd3786\"],[0.5555555555555556,\"#d8576b\"],[0.6666666666666666,\"#ed7953\"],[0.7777777777777778,\"#fb9f3a\"],[0.8888888888888888,\"#fdca26\"],[1.0,\"#f0f921\"]],\"diverging\":[[0,\"#8e0152\"],[0.1,\"#c51b7d\"],[0.2,\"#de77ae\"],[0.3,\"#f1b6da\"],[0.4,\"#fde0ef\"],[0.5,\"#f7f7f7\"],[0.6,\"#e6f5d0\"],[0.7,\"#b8e186\"],[0.8,\"#7fbc41\"],[0.9,\"#4d9221\"],[1,\"#276419\"]]},\"xaxis\":{\"gridcolor\":\"white\",\"linecolor\":\"white\",\"ticks\":\"\",\"title\":{\"standoff\":15},\"zerolinecolor\":\"white\",\"automargin\":true,\"zerolinewidth\":2},\"yaxis\":{\"gridcolor\":\"white\",\"linecolor\":\"white\",\"ticks\":\"\",\"title\":{\"standoff\":15},\"zerolinecolor\":\"white\",\"automargin\":true,\"zerolinewidth\":2},\"scene\":{\"xaxis\":{\"backgroundcolor\":\"#E5ECF6\",\"gridcolor\":\"white\",\"linecolor\":\"white\",\"showbackground\":true,\"ticks\":\"\",\"zerolinecolor\":\"white\",\"gridwidth\":2},\"yaxis\":{\"backgroundcolor\":\"#E5ECF6\",\"gridcolor\":\"white\",\"linecolor\":\"white\",\"showbackground\":true,\"ticks\":\"\",\"zerolinecolor\":\"white\",\"gridwidth\":2},\"zaxis\":{\"backgroundcolor\":\"#E5ECF6\",\"gridcolor\":\"white\",\"linecolor\":\"white\",\"showbackground\":true,\"ticks\":\"\",\"zerolinecolor\":\"white\",\"gridwidth\":2}},\"shapedefaults\":{\"line\":{\"color\":\"#2a3f5f\"}},\"annotationdefaults\":{\"arrowcolor\":\"#2a3f5f\",\"arrowhead\":0,\"arrowwidth\":1},\"geo\":{\"bgcolor\":\"white\",\"landcolor\":\"#E5ECF6\",\"subunitcolor\":\"white\",\"showland\":true,\"showlakes\":true,\"lakecolor\":\"white\"},\"title\":{\"x\":0.05},\"mapbox\":{\"style\":\"light\"}}},\"xaxis\":{\"anchor\":\"y\",\"domain\":[0.0,1.0],\"matches\":\"x2\",\"showticklabels\":false},\"yaxis\":{\"anchor\":\"x\",\"domain\":[0.4600000000000001,1.0],\"title\":{\"text\":\"Daily Mint\\u002fBurn & Net Change\"},\"side\":\"left\"},\"xaxis2\":{\"anchor\":\"y2\",\"domain\":[0.0,1.0],\"title\":{\"text\":\"Date\"},\"tickformat\":\"%Y-%m-%d\",\"tickangle\":45},\"yaxis2\":{\"anchor\":\"x2\",\"domain\":[0.0,0.36000000000000004],\"title\":{\"text\":\"Token Supply\"},\"side\":\"left\"},\"shapes\":[{\"line\":{\"color\":\"gray\",\"dash\":\"dash\"},\"type\":\"line\",\"x0\":0,\"x1\":1,\"xref\":\"x domain\",\"y0\":0,\"y1\":0,\"yref\":\"y\"}],\"title\":{\"font\":{\"size\":18},\"text\":\"$OPEN\",\"x\":0.5},\"legend\":{\"orientation\":\"h\",\"yanchor\":\"bottom\",\"y\":1.02,\"xanchor\":\"right\",\"x\":1,\"bgcolor\":\"rgba(255,255,255,0.8)\"},\"height\":700,\"showlegend\":true,\"hovermode\":\"x unified\",\"barmode\":\"overlay\"},                        {\"responsive\": true}                    ).then(function(){\n",
       "                            \n",
       "var gd = document.getElementById('b72f5fe5-8ae5-4982-a954-e5ea6e192193');\n",
       "var x = new MutationObserver(function (mutations, observer) {{\n",
       "        var display = window.getComputedStyle(gd).display;\n",
       "        if (!display || display === 'none') {{\n",
       "            console.log([gd, 'removed!']);\n",
       "            Plotly.purge(gd);\n",
       "            observer.disconnect();\n",
       "        }}\n",
       "}});\n",
       "\n",
       "// Listen for the removal of the full notebook cells\n",
       "var notebookContainer = gd.closest('#notebook-container');\n",
       "if (notebookContainer) {{\n",
       "    x.observe(notebookContainer, {childList: true});\n",
       "}}\n",
       "\n",
       "// Listen for the clearing of the current output cell\n",
       "var outputEl = gd.closest('.output');\n",
       "if (outputEl) {{\n",
       "    x.observe(outputEl, {childList: true});\n",
       "}}\n",
       "\n",
       "                        })                };            </script>        </div>"
      ]
     },
     "metadata": {},
     "output_type": "display_data"
    }
   ],
   "source": [
    "query = \"\"\"\n",
    "SELECT \n",
    "    DATE(datetime) as date,\n",
    "    SUM(CASE \n",
    "        WHEN from_address = '0x0000000000000000000000000000000000000000' \n",
    "        THEN amount \n",
    "        ELSE 0 \n",
    "    END) as daily_mint_amount,\n",
    "    SUM(CASE \n",
    "        WHEN to_address = '0x0000000000000000000000000000000000000000' \n",
    "        THEN amount \n",
    "        ELSE 0 \n",
    "    END) as daily_burn_amount,\n",
    "    COUNT(CASE \n",
    "        WHEN from_address = '0x0000000000000000000000000000000000000000' \n",
    "        THEN 1 \n",
    "    END) as mint_count,\n",
    "    COUNT(CASE \n",
    "        WHEN to_address = '0x0000000000000000000000000000000000000000' \n",
    "        THEN 1 \n",
    "    END) as burn_count\n",
    "FROM staging.erc20_transfer\n",
    "WHERE token_address = '0x323c03c48660fe31186fa82c289b0766d331ce21'\n",
    "GROUP BY DATE(datetime)\n",
    "ORDER BY date ASC;\n",
    "\"\"\"\n",
    "df = pd.read_sql(query, client.sqlalchemy_engine)\n",
    "\n",
    "daily_supply(df, title=\"$OPEN\").show()"
   ]
  },
  {
   "cell_type": "markdown",
   "id": "e8e79039",
   "metadata": {},
   "source": [
    "## DEX"
   ]
  }
 ],
 "metadata": {
  "kernelspec": {
   "display_name": ".venv",
   "language": "python",
   "name": "python3"
  },
  "language_info": {
   "codemirror_mode": {
    "name": "ipython",
    "version": 3
   },
   "file_extension": ".py",
   "mimetype": "text/x-python",
   "name": "python",
   "nbconvert_exporter": "python",
   "pygments_lexer": "ipython3",
   "version": "3.11.11"
  }
 },
 "nbformat": 4,
 "nbformat_minor": 5
}

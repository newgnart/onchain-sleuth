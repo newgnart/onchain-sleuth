{
 "cells": [
  {
   "cell_type": "code",
   "execution_count": 5,
   "id": "d2f4fe4c",
   "metadata": {},
   "outputs": [],
   "source": [
    "import os, json\n",
    "from pathlib import Path\n",
    "import sys\n",
    "import polars as pl\n",
    "rootdir = Path.cwd().parent.parent\n",
    "sys.path.append(str(rootdir))"
   ]
  },
  {
   "cell_type": "code",
   "execution_count": 24,
   "id": "5ba7bf5f",
   "metadata": {},
   "outputs": [
    {
     "name": "stdout",
     "output_type": "stream",
     "text": [
      "0xf939e0a03fb07f59a73314e73794be0e57ac1b4e\n",
      "\t logs 1774710 17257952 23433008\n",
      "\t logs 1774710\n",
      "\t transactions 59407 17257952 23432857\n",
      "\t transactions 59407\n",
      "0x40d16fc0246ad3160ccc09b8d0d3a2cd28ae6c2f\n",
      "\t logs 641533 17698470 23433018\n",
      "\t logs 641533\n",
      "\t transactions 41339 17699326 23433001\n",
      "\t transactions 41339\n",
      "0xbc6da0fe9ad5f3b0d58160288917aa56653660e9\n",
      "\t logs 141214 11937214 23432535\n",
      "\t logs 141214\n",
      "\t transactions 19385 11937214 23432488\n",
      "\t transactions 19385\n",
      "0x085780639cc2cacd35e474e71f4d000e2405d8f6\n",
      "\t logs 126368 19287523 23432896\n",
      "\t logs 126368\n",
      "\t transactions 4085 19287523 23432251\n",
      "\t transactions 4085\n",
      "0xcacd6fd266af91b8aed52accc382b4e165586e29\n",
      "\t logs 50406 21543360 23432924\n",
      "\t logs 50406\n",
      "\t transactions 4474 21632793 23432726\n",
      "\t transactions 4474\n",
      "0x865377367054516e17014ccded1e7d814edc9ce4\n",
      "\t logs 398340 11915914 23433011\n",
      "\t logs 398340\n",
      "\t transactions 11646 11915875 23433001\n",
      "\t transactions 11646\n",
      "0x6440f144b7e50d6a8439336510312d2f54beb01d\n",
      "\t logs 71958 22483043 23432921\n",
      "\t logs 71958\n",
      "\t transactions 2379 22516087 23432521\n",
      "\t transactions 2379\n",
      "0x5f98805a4e8be255a32880fdec7f6728c6568ba0\n",
      "\t logs 794529 12178594 23432979\n",
      "\t logs 794529\n",
      "\t transactions 55744 12178594 23432977\n",
      "\t transactions 55744\n",
      "0x2a8e1e676ec238d8a992307b495b45b3feaa5e86\n",
      "\t logs 69206 10884563 23432815\n",
      "\t logs 69206\n",
      "\t transactions 10812 10884563 23432327\n",
      "\t transactions 10812\n",
      "0x0d86883faf4ffd7aeb116390af37746f45b6f378\n",
      "\t logs 13626 19577960 23430088\n",
      "\t logs 13626\n",
      "\t transactions 910 19578052 23421956\n",
      "\t transactions 910\n",
      "0xa0d69e286b938e21cbf7e51d71f6a4c8918f482f\n",
      "\t logs 186956 16687620 23433022\n",
      "\t logs 186956\n",
      "\t transactions 2334 16688671 23431019\n",
      "\t transactions 2334\n",
      "0xdc035d45d973e3ec169d2276ddab16f1e407384f\n",
      "\t logs 945875 20663730 23433027\n",
      "\t logs 945875\n",
      "\t transactions 65198 20663730 23432998\n",
      "\t transactions 65198\n"
     ]
    }
   ],
   "source": [
    "contracts = json.load(open(rootdir / \"scripts/stablecoins/contracts.json\"))\n",
    "\n",
    "table_name = \"logs\"\n",
    "for name, detail in contracts.items(): \n",
    "    address = detail[\"address\"].lower()\n",
    "    print(address)\n",
    "\n",
    "    for table_name in [\"logs\", \"transactions\"]:\n",
    "\n",
    "        file_path = rootdir / \"data\" / \"etherscan_raw\" / f\"{detail['chain']}_{address}\" / f\"{table_name}.parquet\"\n",
    "        \n",
    "        df = pl.scan_parquet(file_path)\n",
    "        n_rows = df.unique().collect().shape[0]\n",
    "        max_block = df.select(pl.col(\"blockNumber\").max()).collect().item()\n",
    "        min_block = df.select(pl.col(\"blockNumber\").min()).collect().item()\n",
    "\n",
    "        print(\"\\t\",table_name, n_rows, min_block, max_block)\n",
    "\n",
    "        if table_name == \"logs\":\n",
    "            primary_key = [\"logIndex\", \"transactionHash\"]\n",
    "        elif table_name == \"transactions\":\n",
    "            primary_key = [\"transactionIndex\", \"hash\"]\n",
    "        n_rows_primary_key = df.unique(subset=primary_key).collect().shape[0]\n",
    "        print(\"\\t\",table_name, n_rows_primary_key)\n",
    "\n",
    "        assert n_rows_primary_key == n_rows\n"
   ]
  },
  {
   "cell_type": "code",
   "execution_count": 16,
   "id": "88f77392",
   "metadata": {},
   "outputs": [
    {
     "data": {
      "text/html": [
       "<div><style>\n",
       ".dataframe > thead > tr,\n",
       ".dataframe > tbody > tr {\n",
       "  text-align: right;\n",
       "  white-space: pre-wrap;\n",
       "}\n",
       "</style>\n",
       "<small>shape: (5, 14)</small><table border=\"1\" class=\"dataframe\"><thead><tr><th>address</th><th>topics</th><th>data</th><th>blockNumber</th><th>blockHash</th><th>timeStamp</th><th>gasPrice</th><th>gasUsed</th><th>logIndex</th><th>transactionHash</th><th>transactionIndex</th><th>chainid</th><th>contract_address</th><th>chain</th></tr><tr><td>str</td><td>list[str]</td><td>str</td><td>i64</td><td>str</td><td>i64</td><td>i64</td><td>i64</td><td>i64</td><td>str</td><td>i64</td><td>i64</td><td>str</td><td>str</td></tr></thead><tbody><tr><td>&quot;0x6b175474e89094c44da98b954eed…</td><td>[&quot;0xddf252ad1be2c89b69c2b068fc378daa952ba7f163c4a11628f55a4df523b3ef&quot;, &quot;0x00000000000000000000000074de5d4fcbf63e00296fd95d33236b9794016631&quot;, &quot;0x0000000000000000000000008cbf64cf5c7fdf2a9bde1c82d9e491aee2ca4bb7&quot;]</td><td>&quot;0x0000000000000000000000000000…</td><td>12707741</td><td>&quot;0x71584ac3ea076d21f8676de00542…</td><td>1624684699</td><td>13000000000</td><td>171598</td><td>78</td><td>&quot;0xc274fceaba165b988597db5e784e…</td><td>64</td><td>1</td><td>&quot;0x6b175474e89094c44da98b954eed…</td><td>&quot;ethereum&quot;</td></tr><tr><td>&quot;0x6b175474e89094c44da98b954eed…</td><td>[&quot;0xddf252ad1be2c89b69c2b068fc378daa952ba7f163c4a11628f55a4df523b3ef&quot;, &quot;0x0000000000000000000000005d3a536e4d6dbd6114cc1ead35777bab948e3643&quot;, &quot;0x0000000000000000000000000000000000000000000000000000000000000000&quot;]</td><td>&quot;0x0000000000000000000000000000…</td><td>10369332</td><td>&quot;0xf9a95be051b210dcb2762e3ea9da…</td><td>1593549247</td><td>24999310950</td><td>1547277</td><td>151</td><td>&quot;0x8119049649d97ef3b192b4fd65aa…</td><td>27</td><td>1</td><td>&quot;0x6b175474e89094c44da98b954eed…</td><td>&quot;ethereum&quot;</td></tr><tr><td>&quot;0x6b175474e89094c44da98b954eed…</td><td>[&quot;0xddf252ad1be2c89b69c2b068fc378daa952ba7f163c4a11628f55a4df523b3ef&quot;, &quot;0x0000000000000000000000000000006daea1723962647b7e189d311d757fb793&quot;, &quot;0x00000000000000000000000060594a405d53811d3bc4766596efd80fd545a270&quot;]</td><td>&quot;0x0000000000000000000000000000…</td><td>13474528</td><td>&quot;0xf14de195a8598edc0d6b1c3e2388…</td><td>1635002276</td><td>88183846236</td><td>121986</td><td>111</td><td>&quot;0x1d0560f04e8b484c8a3d65820717…</td><td>84</td><td>1</td><td>&quot;0x6b175474e89094c44da98b954eed…</td><td>&quot;ethereum&quot;</td></tr><tr><td>&quot;0x6b175474e89094c44da98b954eed…</td><td>[&quot;0xddf252ad1be2c89b69c2b068fc378daa952ba7f163c4a11628f55a4df523b3ef&quot;, &quot;0x000000000000000000000000e3f277382419535245a345e923898c2d43f7cbe5&quot;, &quot;0x000000000000000000000000bba4c8eb57df16c4cfabe4e9a3ab697a3e0c65d8&quot;]</td><td>&quot;0x0000000000000000000000000000…</td><td>13185012</td><td>&quot;0x9f7cfe6f2901b34aee9a4fccee66…</td><td>1631103040</td><td>98872000000</td><td>34730</td><td>39</td><td>&quot;0x7161f52167ffa2a3b0eadfbf2911…</td><td>48</td><td>1</td><td>&quot;0x6b175474e89094c44da98b954eed…</td><td>&quot;ethereum&quot;</td></tr><tr><td>&quot;0x6b175474e89094c44da98b954eed…</td><td>[&quot;0xddf252ad1be2c89b69c2b068fc378daa952ba7f163c4a11628f55a4df523b3ef&quot;, &quot;0x00000000000000000000000056178a0d5f301baf6cf3e1cd53d9863437345bf9&quot;, &quot;0x000000000000000000000000a478c2975ab1ea89e8196811f51a7b7ade33eb11&quot;]</td><td>&quot;0x0000000000000000000000000000…</td><td>11225693</td><td>&quot;0x28218199dfdcf90b509b0dfa5902…</td><td>1604956843</td><td>29000000001</td><td>114489</td><td>41</td><td>&quot;0x59c87595de60841ec16da1c4e16c…</td><td>22</td><td>1</td><td>&quot;0x6b175474e89094c44da98b954eed…</td><td>&quot;ethereum&quot;</td></tr></tbody></table></div>"
      ],
      "text/plain": [
       "shape: (5, 14)\n",
       "┌────────────┬────────────┬───────────┬───────────┬───┬───────────┬─────────┬───────────┬──────────┐\n",
       "│ address    ┆ topics     ┆ data      ┆ blockNumb ┆ … ┆ transacti ┆ chainid ┆ contract_ ┆ chain    │\n",
       "│ ---        ┆ ---        ┆ ---       ┆ er        ┆   ┆ onIndex   ┆ ---     ┆ address   ┆ ---      │\n",
       "│ str        ┆ list[str]  ┆ str       ┆ ---       ┆   ┆ ---       ┆ i64     ┆ ---       ┆ str      │\n",
       "│            ┆            ┆           ┆ i64       ┆   ┆ i64       ┆         ┆ str       ┆          │\n",
       "╞════════════╪════════════╪═══════════╪═══════════╪═══╪═══════════╪═════════╪═══════════╪══════════╡\n",
       "│ 0x6b175474 ┆ [\"0xddf252 ┆ 0x0000000 ┆ 12707741  ┆ … ┆ 64        ┆ 1       ┆ 0x6b17547 ┆ ethereum │\n",
       "│ e89094c44d ┆ ad1be2c89b ┆ 000000000 ┆           ┆   ┆           ┆         ┆ 4e89094c4 ┆          │\n",
       "│ a98b954eed ┆ 69c2b068fc ┆ 000000000 ┆           ┆   ┆           ┆         ┆ 4da98b954 ┆          │\n",
       "│ …          ┆ …          ┆ 000…      ┆           ┆   ┆           ┆         ┆ eed…      ┆          │\n",
       "│ 0x6b175474 ┆ [\"0xddf252 ┆ 0x0000000 ┆ 10369332  ┆ … ┆ 27        ┆ 1       ┆ 0x6b17547 ┆ ethereum │\n",
       "│ e89094c44d ┆ ad1be2c89b ┆ 000000000 ┆           ┆   ┆           ┆         ┆ 4e89094c4 ┆          │\n",
       "│ a98b954eed ┆ 69c2b068fc ┆ 000000000 ┆           ┆   ┆           ┆         ┆ 4da98b954 ┆          │\n",
       "│ …          ┆ …          ┆ 000…      ┆           ┆   ┆           ┆         ┆ eed…      ┆          │\n",
       "│ 0x6b175474 ┆ [\"0xddf252 ┆ 0x0000000 ┆ 13474528  ┆ … ┆ 84        ┆ 1       ┆ 0x6b17547 ┆ ethereum │\n",
       "│ e89094c44d ┆ ad1be2c89b ┆ 000000000 ┆           ┆   ┆           ┆         ┆ 4e89094c4 ┆          │\n",
       "│ a98b954eed ┆ 69c2b068fc ┆ 000000000 ┆           ┆   ┆           ┆         ┆ 4da98b954 ┆          │\n",
       "│ …          ┆ …          ┆ 000…      ┆           ┆   ┆           ┆         ┆ eed…      ┆          │\n",
       "│ 0x6b175474 ┆ [\"0xddf252 ┆ 0x0000000 ┆ 13185012  ┆ … ┆ 48        ┆ 1       ┆ 0x6b17547 ┆ ethereum │\n",
       "│ e89094c44d ┆ ad1be2c89b ┆ 000000000 ┆           ┆   ┆           ┆         ┆ 4e89094c4 ┆          │\n",
       "│ a98b954eed ┆ 69c2b068fc ┆ 000000000 ┆           ┆   ┆           ┆         ┆ 4da98b954 ┆          │\n",
       "│ …          ┆ …          ┆ 000…      ┆           ┆   ┆           ┆         ┆ eed…      ┆          │\n",
       "│ 0x6b175474 ┆ [\"0xddf252 ┆ 0x0000000 ┆ 11225693  ┆ … ┆ 22        ┆ 1       ┆ 0x6b17547 ┆ ethereum │\n",
       "│ e89094c44d ┆ ad1be2c89b ┆ 000000000 ┆           ┆   ┆           ┆         ┆ 4e89094c4 ┆          │\n",
       "│ a98b954eed ┆ 69c2b068fc ┆ 000000000 ┆           ┆   ┆           ┆         ┆ 4da98b954 ┆          │\n",
       "│ …          ┆ …          ┆ 000…      ┆           ┆   ┆           ┆         ┆ eed…      ┆          │\n",
       "└────────────┴────────────┴───────────┴───────────┴───┴───────────┴─────────┴───────────┴──────────┘"
      ]
     },
     "execution_count": 16,
     "metadata": {},
     "output_type": "execute_result"
    }
   ],
   "source": [
    "df.collect().head()"
   ]
  },
  {
   "cell_type": "code",
   "execution_count": null,
   "id": "a24cd052",
   "metadata": {},
   "outputs": [],
   "source": []
  }
 ],
 "metadata": {
  "kernelspec": {
   "display_name": ".venv",
   "language": "python",
   "name": "python3"
  },
  "language_info": {
   "codemirror_mode": {
    "name": "ipython",
    "version": 3
   },
   "file_extension": ".py",
   "mimetype": "text/x-python",
   "name": "python",
   "nbconvert_exporter": "python",
   "pygments_lexer": "ipython3",
   "version": "3.11.11"
  }
 },
 "nbformat": 4,
 "nbformat_minor": 5
}
